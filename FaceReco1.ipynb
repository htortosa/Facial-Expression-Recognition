{
  "nbformat": 4,
  "nbformat_minor": 0,
  "metadata": {
    "kernelspec": {
      "display_name": "Python 3",
      "language": "python",
      "name": "python3"
    },
    "language_info": {
      "codemirror_mode": {
        "name": "ipython",
        "version": 3
      },
      "file_extension": ".py",
      "mimetype": "text/x-python",
      "name": "python",
      "nbconvert_exporter": "python",
      "pygments_lexer": "ipython3",
      "version": "3.8.5"
    },
    "colab": {
      "name": "FaceReco1.ipynb",
      "provenance": [],
      "collapsed_sections": [],
      "toc_visible": true
    },
    "accelerator": "GPU"
  },
  "cells": [
    {
      "cell_type": "code",
      "metadata": {
        "id": "Z20MzYCNcBXr"
      },
      "source": [
        "import numpy as np # linear algebra\n",
        "import pandas as pd # data processing, CSV file I/O (e.g. pd.read_csv)\n",
        "\n",
        "from keras.utils import to_categorical\n",
        "from keras.callbacks import EarlyStopping\n",
        "from keras.models import Sequential\n",
        "from keras.layers import Dense, Dropout, Activation, Flatten\n",
        "from keras.layers import Conv2D, MaxPooling2D, BatchNormalization\n",
        "from keras.losses import categorical_crossentropy\n",
        "from sklearn.metrics import accuracy_score\n",
        "from keras.optimizers import Adam\n",
        "from keras.regularizers import l2\n",
        "from keras.preprocessing.image import ImageDataGenerator\n",
        "from sklearn.metrics import classification_report, confusion_matrix\n",
        "import matplotlib.pyplot as plt\n",
        "import seaborn as sns\n",
        "\n",
        "import os\n"
      ],
      "execution_count": 1,
      "outputs": []
    },
    {
      "cell_type": "code",
      "metadata": {
        "id": "d9ayIYGcdQC2",
        "colab": {
          "base_uri": "https://localhost:8080/"
        },
        "outputId": "02c951ae-bfc4-4056-cefb-f707ac85535d"
      },
      "source": [
        "from google.colab import drive\r\n",
        "drive.mount('/content/drive')"
      ],
      "execution_count": 2,
      "outputs": [
        {
          "output_type": "stream",
          "text": [
            "Mounted at /content/drive\n"
          ],
          "name": "stdout"
        }
      ]
    },
    {
      "cell_type": "markdown",
      "metadata": {
        "id": "iKn2avpqRvqa"
      },
      "source": [
        "import io\r\n",
        "data = pd.read_csv(io.BytesIO(data['icml_face_data  (5).csv']))\r\n",
        "data"
      ]
    },
    {
      "cell_type": "code",
      "metadata": {
        "id": "O9rKco4KEuPU",
        "colab": {
          "base_uri": "https://localhost:8080/"
        },
        "outputId": "016fb144-72e7-46be-c63e-d64fef43eca7"
      },
      "source": [
        "from google.colab import drive\n",
        "drive.mount('/content/drive')"
      ],
      "execution_count": 3,
      "outputs": [
        {
          "output_type": "stream",
          "text": [
            "Drive already mounted at /content/drive; to attempt to forcibly remount, call drive.mount(\"/content/drive\", force_remount=True).\n"
          ],
          "name": "stdout"
        }
      ]
    },
    {
      "cell_type": "code",
      "metadata": {
        "id": "1zIC0okPUu9N",
        "colab": {
          "base_uri": "https://localhost:8080/",
          "height": 406
        },
        "outputId": "f4e96436-0bc5-4c31-e19b-c0ba80eea4e9"
      },
      "source": [
        "data = pd.read_csv('/content/drive/MyDrive/FaceRecognition/icml_face_data/icml_face_data.csv') \r\n",
        "data"
      ],
      "execution_count": 4,
      "outputs": [
        {
          "output_type": "execute_result",
          "data": {
            "text/html": [
              "<div>\n",
              "<style scoped>\n",
              "    .dataframe tbody tr th:only-of-type {\n",
              "        vertical-align: middle;\n",
              "    }\n",
              "\n",
              "    .dataframe tbody tr th {\n",
              "        vertical-align: top;\n",
              "    }\n",
              "\n",
              "    .dataframe thead th {\n",
              "        text-align: right;\n",
              "    }\n",
              "</style>\n",
              "<table border=\"1\" class=\"dataframe\">\n",
              "  <thead>\n",
              "    <tr style=\"text-align: right;\">\n",
              "      <th></th>\n",
              "      <th>emotion</th>\n",
              "      <th>Usage</th>\n",
              "      <th>pixels</th>\n",
              "    </tr>\n",
              "  </thead>\n",
              "  <tbody>\n",
              "    <tr>\n",
              "      <th>0</th>\n",
              "      <td>0</td>\n",
              "      <td>Training</td>\n",
              "      <td>70 80 82 72 58 58 60 63 54 58 60 48 89 115 121...</td>\n",
              "    </tr>\n",
              "    <tr>\n",
              "      <th>1</th>\n",
              "      <td>0</td>\n",
              "      <td>Training</td>\n",
              "      <td>151 150 147 155 148 133 111 140 170 174 182 15...</td>\n",
              "    </tr>\n",
              "    <tr>\n",
              "      <th>2</th>\n",
              "      <td>2</td>\n",
              "      <td>Training</td>\n",
              "      <td>231 212 156 164 174 138 161 173 182 200 106 38...</td>\n",
              "    </tr>\n",
              "    <tr>\n",
              "      <th>3</th>\n",
              "      <td>4</td>\n",
              "      <td>Training</td>\n",
              "      <td>24 32 36 30 32 23 19 20 30 41 21 22 32 34 21 1...</td>\n",
              "    </tr>\n",
              "    <tr>\n",
              "      <th>4</th>\n",
              "      <td>6</td>\n",
              "      <td>Training</td>\n",
              "      <td>4 0 0 0 0 0 0 0 0 0 0 0 3 15 23 28 48 50 58 84...</td>\n",
              "    </tr>\n",
              "    <tr>\n",
              "      <th>...</th>\n",
              "      <td>...</td>\n",
              "      <td>...</td>\n",
              "      <td>...</td>\n",
              "    </tr>\n",
              "    <tr>\n",
              "      <th>35882</th>\n",
              "      <td>6</td>\n",
              "      <td>PrivateTest</td>\n",
              "      <td>50 36 17 22 23 29 33 39 34 37 37 37 39 43 48 5...</td>\n",
              "    </tr>\n",
              "    <tr>\n",
              "      <th>35883</th>\n",
              "      <td>3</td>\n",
              "      <td>PrivateTest</td>\n",
              "      <td>178 174 172 173 181 188 191 194 196 199 200 20...</td>\n",
              "    </tr>\n",
              "    <tr>\n",
              "      <th>35884</th>\n",
              "      <td>0</td>\n",
              "      <td>PrivateTest</td>\n",
              "      <td>17 17 16 23 28 22 19 17 25 26 20 24 31 19 27 9...</td>\n",
              "    </tr>\n",
              "    <tr>\n",
              "      <th>35885</th>\n",
              "      <td>3</td>\n",
              "      <td>PrivateTest</td>\n",
              "      <td>30 28 28 29 31 30 42 68 79 81 77 67 67 71 63 6...</td>\n",
              "    </tr>\n",
              "    <tr>\n",
              "      <th>35886</th>\n",
              "      <td>2</td>\n",
              "      <td>PrivateTest</td>\n",
              "      <td>19 13 14 12 13 16 21 33 50 57 71 84 97 108 122...</td>\n",
              "    </tr>\n",
              "  </tbody>\n",
              "</table>\n",
              "<p>35887 rows × 3 columns</p>\n",
              "</div>"
            ],
            "text/plain": [
              "       emotion        Usage                                             pixels\n",
              "0            0     Training  70 80 82 72 58 58 60 63 54 58 60 48 89 115 121...\n",
              "1            0     Training  151 150 147 155 148 133 111 140 170 174 182 15...\n",
              "2            2     Training  231 212 156 164 174 138 161 173 182 200 106 38...\n",
              "3            4     Training  24 32 36 30 32 23 19 20 30 41 21 22 32 34 21 1...\n",
              "4            6     Training  4 0 0 0 0 0 0 0 0 0 0 0 3 15 23 28 48 50 58 84...\n",
              "...        ...          ...                                                ...\n",
              "35882        6  PrivateTest  50 36 17 22 23 29 33 39 34 37 37 37 39 43 48 5...\n",
              "35883        3  PrivateTest  178 174 172 173 181 188 191 194 196 199 200 20...\n",
              "35884        0  PrivateTest  17 17 16 23 28 22 19 17 25 26 20 24 31 19 27 9...\n",
              "35885        3  PrivateTest  30 28 28 29 31 30 42 68 79 81 77 67 67 71 63 6...\n",
              "35886        2  PrivateTest  19 13 14 12 13 16 21 33 50 57 71 84 97 108 122...\n",
              "\n",
              "[35887 rows x 3 columns]"
            ]
          },
          "metadata": {
            "tags": []
          },
          "execution_count": 4
        }
      ]
    },
    {
      "cell_type": "markdown",
      "metadata": {
        "id": "AbbDZfrdcBX5"
      },
      "source": [
        "Train.info()"
      ]
    },
    {
      "cell_type": "code",
      "metadata": {
        "id": "FXnezkZ1cBX3",
        "colab": {
          "base_uri": "https://localhost:8080/"
        },
        "outputId": "f6cd5a22-640c-41b8-cc5f-9536a5c60018"
      },
      "source": [
        "data.info()"
      ],
      "execution_count": 5,
      "outputs": [
        {
          "output_type": "stream",
          "text": [
            "<class 'pandas.core.frame.DataFrame'>\n",
            "RangeIndex: 35887 entries, 0 to 35886\n",
            "Data columns (total 3 columns):\n",
            " #   Column   Non-Null Count  Dtype \n",
            "---  ------   --------------  ----- \n",
            " 0   emotion  35887 non-null  int64 \n",
            " 1    Usage   35887 non-null  object\n",
            " 2    pixels  35887 non-null  object\n",
            "dtypes: int64(1), object(2)\n",
            "memory usage: 841.2+ KB\n"
          ],
          "name": "stdout"
        }
      ]
    },
    {
      "cell_type": "code",
      "metadata": {
        "id": "FMyFux0SV1ll",
        "colab": {
          "base_uri": "https://localhost:8080/",
          "height": 197
        },
        "outputId": "6dfa471f-b708-4d61-8744-a9a352bea9e3"
      },
      "source": [
        "Train = pd.read_csv('/content/drive/MyDrive/FaceRecognition/train/train.csv')\r\n",
        "Train.head()"
      ],
      "execution_count": 6,
      "outputs": [
        {
          "output_type": "execute_result",
          "data": {
            "text/html": [
              "<div>\n",
              "<style scoped>\n",
              "    .dataframe tbody tr th:only-of-type {\n",
              "        vertical-align: middle;\n",
              "    }\n",
              "\n",
              "    .dataframe tbody tr th {\n",
              "        vertical-align: top;\n",
              "    }\n",
              "\n",
              "    .dataframe thead th {\n",
              "        text-align: right;\n",
              "    }\n",
              "</style>\n",
              "<table border=\"1\" class=\"dataframe\">\n",
              "  <thead>\n",
              "    <tr style=\"text-align: right;\">\n",
              "      <th></th>\n",
              "      <th>emotion</th>\n",
              "      <th>pixels</th>\n",
              "    </tr>\n",
              "  </thead>\n",
              "  <tbody>\n",
              "    <tr>\n",
              "      <th>0</th>\n",
              "      <td>0</td>\n",
              "      <td>70 80 82 72 58 58 60 63 54 58 60 48 89 115 121...</td>\n",
              "    </tr>\n",
              "    <tr>\n",
              "      <th>1</th>\n",
              "      <td>0</td>\n",
              "      <td>151 150 147 155 148 133 111 140 170 174 182 15...</td>\n",
              "    </tr>\n",
              "    <tr>\n",
              "      <th>2</th>\n",
              "      <td>2</td>\n",
              "      <td>231 212 156 164 174 138 161 173 182 200 106 38...</td>\n",
              "    </tr>\n",
              "    <tr>\n",
              "      <th>3</th>\n",
              "      <td>4</td>\n",
              "      <td>24 32 36 30 32 23 19 20 30 41 21 22 32 34 21 1...</td>\n",
              "    </tr>\n",
              "    <tr>\n",
              "      <th>4</th>\n",
              "      <td>6</td>\n",
              "      <td>4 0 0 0 0 0 0 0 0 0 0 0 3 15 23 28 48 50 58 84...</td>\n",
              "    </tr>\n",
              "  </tbody>\n",
              "</table>\n",
              "</div>"
            ],
            "text/plain": [
              "   emotion                                             pixels\n",
              "0        0  70 80 82 72 58 58 60 63 54 58 60 48 89 115 121...\n",
              "1        0  151 150 147 155 148 133 111 140 170 174 182 15...\n",
              "2        2  231 212 156 164 174 138 161 173 182 200 106 38...\n",
              "3        4  24 32 36 30 32 23 19 20 30 41 21 22 32 34 21 1...\n",
              "4        6  4 0 0 0 0 0 0 0 0 0 0 0 3 15 23 28 48 50 58 84..."
            ]
          },
          "metadata": {
            "tags": []
          },
          "execution_count": 6
        }
      ]
    },
    {
      "cell_type": "code",
      "metadata": {
        "id": "tpNWjml4V1zv",
        "colab": {
          "base_uri": "https://localhost:8080/",
          "height": 197
        },
        "outputId": "9b811dc0-7a15-428b-f91f-6d638dc153e1"
      },
      "source": [
        "Test = pd.read_csv('/content/drive/MyDrive/FaceRecognition/test/test.csv')\r\n",
        "Test.head()"
      ],
      "execution_count": 7,
      "outputs": [
        {
          "output_type": "execute_result",
          "data": {
            "text/html": [
              "<div>\n",
              "<style scoped>\n",
              "    .dataframe tbody tr th:only-of-type {\n",
              "        vertical-align: middle;\n",
              "    }\n",
              "\n",
              "    .dataframe tbody tr th {\n",
              "        vertical-align: top;\n",
              "    }\n",
              "\n",
              "    .dataframe thead th {\n",
              "        text-align: right;\n",
              "    }\n",
              "</style>\n",
              "<table border=\"1\" class=\"dataframe\">\n",
              "  <thead>\n",
              "    <tr style=\"text-align: right;\">\n",
              "      <th></th>\n",
              "      <th>pixels</th>\n",
              "    </tr>\n",
              "  </thead>\n",
              "  <tbody>\n",
              "    <tr>\n",
              "      <th>0</th>\n",
              "      <td>254 254 254 254 254 249 255 160 2 58 53 70 77 ...</td>\n",
              "    </tr>\n",
              "    <tr>\n",
              "      <th>1</th>\n",
              "      <td>156 184 198 202 204 207 210 212 213 214 215 21...</td>\n",
              "    </tr>\n",
              "    <tr>\n",
              "      <th>2</th>\n",
              "      <td>69 118 61 60 96 121 103 87 103 88 70 90 115 12...</td>\n",
              "    </tr>\n",
              "    <tr>\n",
              "      <th>3</th>\n",
              "      <td>205 203 236 157 83 158 120 116 94 86 155 180 2...</td>\n",
              "    </tr>\n",
              "    <tr>\n",
              "      <th>4</th>\n",
              "      <td>87 79 74 66 74 96 77 80 80 84 83 89 102 91 84 ...</td>\n",
              "    </tr>\n",
              "  </tbody>\n",
              "</table>\n",
              "</div>"
            ],
            "text/plain": [
              "                                              pixels\n",
              "0  254 254 254 254 254 249 255 160 2 58 53 70 77 ...\n",
              "1  156 184 198 202 204 207 210 212 213 214 215 21...\n",
              "2  69 118 61 60 96 121 103 87 103 88 70 90 115 12...\n",
              "3  205 203 236 157 83 158 120 116 94 86 155 180 2...\n",
              "4  87 79 74 66 74 96 77 80 80 84 83 89 102 91 84 ..."
            ]
          },
          "metadata": {
            "tags": []
          },
          "execution_count": 7
        }
      ]
    },
    {
      "cell_type": "code",
      "metadata": {
        "id": "k6QUHs-_cBX6",
        "colab": {
          "base_uri": "https://localhost:8080/"
        },
        "outputId": "6d9c331f-6b27-4c06-a0c5-b12b1a176fd5"
      },
      "source": [
        "data[' Usage'].value_counts()"
      ],
      "execution_count": 8,
      "outputs": [
        {
          "output_type": "execute_result",
          "data": {
            "text/plain": [
              "Training       28709\n",
              "PrivateTest     3589\n",
              "PublicTest      3589\n",
              "Name:  Usage, dtype: int64"
            ]
          },
          "metadata": {
            "tags": []
          },
          "execution_count": 8
        }
      ]
    },
    {
      "cell_type": "code",
      "metadata": {
        "id": "PxN6LZWLcBX7",
        "colab": {
          "base_uri": "https://localhost:8080/",
          "height": 257
        },
        "outputId": "7860462f-0b16-48ca-be52-a2f9fe164549"
      },
      "source": [
        "#check target labels\n",
        "emotion_map = {0: 'Angry', 1: 'Disgust', 2: 'Fear', 3: 'Happy', 4: 'Sad', 5: 'Surprise', 6: 'Neutral'}\n",
        "emotion_counts = data['emotion'].value_counts(sort=False).reset_index()\n",
        "emotion_counts.columns = ['emotion', 'number']\n",
        "emotion_counts['emotion'] = emotion_counts['emotion'].map(emotion_map)\n",
        "emotion_counts"
      ],
      "execution_count": 9,
      "outputs": [
        {
          "output_type": "execute_result",
          "data": {
            "text/html": [
              "<div>\n",
              "<style scoped>\n",
              "    .dataframe tbody tr th:only-of-type {\n",
              "        vertical-align: middle;\n",
              "    }\n",
              "\n",
              "    .dataframe tbody tr th {\n",
              "        vertical-align: top;\n",
              "    }\n",
              "\n",
              "    .dataframe thead th {\n",
              "        text-align: right;\n",
              "    }\n",
              "</style>\n",
              "<table border=\"1\" class=\"dataframe\">\n",
              "  <thead>\n",
              "    <tr style=\"text-align: right;\">\n",
              "      <th></th>\n",
              "      <th>emotion</th>\n",
              "      <th>number</th>\n",
              "    </tr>\n",
              "  </thead>\n",
              "  <tbody>\n",
              "    <tr>\n",
              "      <th>0</th>\n",
              "      <td>Angry</td>\n",
              "      <td>4953</td>\n",
              "    </tr>\n",
              "    <tr>\n",
              "      <th>1</th>\n",
              "      <td>Disgust</td>\n",
              "      <td>547</td>\n",
              "    </tr>\n",
              "    <tr>\n",
              "      <th>2</th>\n",
              "      <td>Fear</td>\n",
              "      <td>5121</td>\n",
              "    </tr>\n",
              "    <tr>\n",
              "      <th>3</th>\n",
              "      <td>Happy</td>\n",
              "      <td>8989</td>\n",
              "    </tr>\n",
              "    <tr>\n",
              "      <th>4</th>\n",
              "      <td>Sad</td>\n",
              "      <td>6077</td>\n",
              "    </tr>\n",
              "    <tr>\n",
              "      <th>5</th>\n",
              "      <td>Surprise</td>\n",
              "      <td>4002</td>\n",
              "    </tr>\n",
              "    <tr>\n",
              "      <th>6</th>\n",
              "      <td>Neutral</td>\n",
              "      <td>6198</td>\n",
              "    </tr>\n",
              "  </tbody>\n",
              "</table>\n",
              "</div>"
            ],
            "text/plain": [
              "    emotion  number\n",
              "0     Angry    4953\n",
              "1   Disgust     547\n",
              "2      Fear    5121\n",
              "3     Happy    8989\n",
              "4       Sad    6077\n",
              "5  Surprise    4002\n",
              "6   Neutral    6198"
            ]
          },
          "metadata": {
            "tags": []
          },
          "execution_count": 9
        }
      ]
    },
    {
      "cell_type": "code",
      "metadata": {
        "id": "wml2DT5bcBX7",
        "colab": {
          "base_uri": "https://localhost:8080/",
          "height": 353
        },
        "outputId": "160b1c47-a521-4503-cee4-d5a9a889c5e6"
      },
      "source": [
        "plt.figure(figsize=(6,4))\n",
        "sns.barplot(emotion_counts.emotion, emotion_counts.number)\n",
        "plt.title('Class distribution')\n",
        "plt.ylabel('Number', fontsize=12)\n",
        "plt.xlabel('Emotions', fontsize=12)\n",
        "plt.show()"
      ],
      "execution_count": 10,
      "outputs": [
        {
          "output_type": "stream",
          "text": [
            "/usr/local/lib/python3.6/dist-packages/seaborn/_decorators.py:43: FutureWarning: Pass the following variables as keyword args: x, y. From version 0.12, the only valid positional argument will be `data`, and passing other arguments without an explicit keyword will result in an error or misinterpretation.\n",
            "  FutureWarning\n"
          ],
          "name": "stderr"
        },
        {
          "output_type": "display_data",
          "data": {
            "image/png": "[encoded data removed]",
            "text/plain": [
              "<Figure size 432x288 with 1 Axes>"
            ]
          },
          "metadata": {
            "tags": [],
            "needs_background": "light"
          }
        }
      ]
    },
    {
      "cell_type": "code",
      "metadata": {
        "id": "yYkPx_V8cBX8",
        "colab": {
          "base_uri": "https://localhost:8080/",
          "height": 823
        },
        "outputId": "97874fe0-a9f2-4236-c332-ca6d09cd542d"
      },
      "source": [
        "def row2image(row):\n",
        "    pixels, emotion = row[' pixels'], emotion_map[row['emotion']]\n",
        "    img = np.array(pixels.split())\n",
        "    img = img.reshape(48,48)\n",
        "    image = np.zeros((48,48,3))\n",
        "    image[:,:,0] = img\n",
        "    image[:,:,1] = img\n",
        "    image[:,:,2] = img\n",
        "    return np.array([image.astype(np.uint8), emotion])\n",
        "\n",
        "plt.figure(0, figsize=(16,10))\n",
        "for i in range(1,8):\n",
        "    face = data[data['emotion'] == i-1].iloc[0]\n",
        "    img = row2image(face)\n",
        "    plt.subplot(2,4,i)\n",
        "    plt.imshow(img[0])\n",
        "    plt.title(img[1])\n",
        "\n",
        "plt.show()"
      ],
      "execution_count": 11,
      "outputs": [
        {
          "output_type": "stream",
          "text": [
            "/usr/local/lib/python3.6/dist-packages/ipykernel_launcher.py:9: VisibleDeprecationWarning: Creating an ndarray from ragged nested sequences (which is a list-or-tuple of lists-or-tuples-or ndarrays with different lengths or shapes) is deprecated. If you meant to do this, you must specify 'dtype=object' when creating the ndarray\n",
            "  if __name__ == '__main__':\n",
            "/usr/local/lib/python3.6/dist-packages/ipykernel_launcher.py:9: VisibleDeprecationWarning: Creating an ndarray from ragged nested sequences (which is a list-or-tuple of lists-or-tuples-or ndarrays with different lengths or shapes) is deprecated. If you meant to do this, you must specify 'dtype=object' when creating the ndarray\n",
            "  if __name__ == '__main__':\n",
            "/usr/local/lib/python3.6/dist-packages/ipykernel_launcher.py:9: VisibleDeprecationWarning: Creating an ndarray from ragged nested sequences (which is a list-or-tuple of lists-or-tuples-or ndarrays with different lengths or shapes) is deprecated. If you meant to do this, you must specify 'dtype=object' when creating the ndarray\n",
            "  if __name__ == '__main__':\n",
            "/usr/local/lib/python3.6/dist-packages/ipykernel_launcher.py:9: VisibleDeprecationWarning: Creating an ndarray from ragged nested sequences (which is a list-or-tuple of lists-or-tuples-or ndarrays with different lengths or shapes) is deprecated. If you meant to do this, you must specify 'dtype=object' when creating the ndarray\n",
            "  if __name__ == '__main__':\n",
            "/usr/local/lib/python3.6/dist-packages/ipykernel_launcher.py:9: VisibleDeprecationWarning: Creating an ndarray from ragged nested sequences (which is a list-or-tuple of lists-or-tuples-or ndarrays with different lengths or shapes) is deprecated. If you meant to do this, you must specify 'dtype=object' when creating the ndarray\n",
            "  if __name__ == '__main__':\n",
            "/usr/local/lib/python3.6/dist-packages/ipykernel_launcher.py:9: VisibleDeprecationWarning: Creating an ndarray from ragged nested sequences (which is a list-or-tuple of lists-or-tuples-or ndarrays with different lengths or shapes) is deprecated. If you meant to do this, you must specify 'dtype=object' when creating the ndarray\n",
            "  if __name__ == '__main__':\n",
            "/usr/local/lib/python3.6/dist-packages/ipykernel_launcher.py:9: VisibleDeprecationWarning: Creating an ndarray from ragged nested sequences (which is a list-or-tuple of lists-or-tuples-or ndarrays with different lengths or shapes) is deprecated. If you meant to do this, you must specify 'dtype=object' when creating the ndarray\n",
            "  if __name__ == '__main__':\n"
          ],
          "name": "stderr"
        },
        {
          "output_type": "display_data",
          "data": {
            "image/png": "[encoded data removed]",
            "text/plain": [
              "<Figure size 1152x720 with 7 Axes>"
            ]
          },
          "metadata": {
            "tags": [],
            "needs_background": "light"
          }
        }
      ]
    },
    {
      "cell_type": "code",
      "metadata": {
        "id": "7sqIZz-7cBX8",
        "colab": {
          "base_uri": "https://localhost:8080/"
        },
        "outputId": "1ea1b36c-0eb0-44b5-d742-732a4e78e405"
      },
      "source": [
        "data[' Usage'].value_counts()"
      ],
      "execution_count": 12,
      "outputs": [
        {
          "output_type": "execute_result",
          "data": {
            "text/plain": [
              "Training       28709\n",
              "PrivateTest     3589\n",
              "PublicTest      3589\n",
              "Name:  Usage, dtype: int64"
            ]
          },
          "metadata": {
            "tags": []
          },
          "execution_count": 12
        }
      ]
    },
    {
      "cell_type": "code",
      "metadata": {
        "id": "T5ubRN-rcBX9"
      },
      "source": [
        "x_train,x_test,y_train,y_test=[],[],[],[]\n",
        "for row in Train.values:\n",
        "    value=row[0]\n",
        "    pixels=row[1].split(' ')\n",
        "    x_train.append(np.array(pixels,'float32'))\n",
        "    y_train.append(value)\n",
        "\n",
        "for row in Test.values:\n",
        "    pixels=row[0].split(' ')\n",
        "    x_test.append(np.array(pixels,'float32'))\n",
        "y_test=data[(data[' Usage']=='PublicTest')|(data[' Usage']=='PrivateTest')]['emotion'].values"
      ],
      "execution_count": 13,
      "outputs": []
    },
    {
      "cell_type": "code",
      "metadata": {
        "id": "dckOA51dcBX9"
      },
      "source": [
        "x_train=np.array(x_train,'float32')\n",
        "y_train=np.array(y_train,'float32')\n",
        "x_test=np.array(x_test,'float32')\n",
        "y_test=np.array(y_test,'float32')"
      ],
      "execution_count": 14,
      "outputs": []
    },
    {
      "cell_type": "code",
      "metadata": {
        "id": "7C4B1FmvcBX9",
        "colab": {
          "base_uri": "https://localhost:8080/"
        },
        "outputId": "a8dd894d-398f-4b19-ab7a-869883b4eb64"
      },
      "source": [
        "x_test.shape,x_train.shape,y_train.shape,y_test.shape"
      ],
      "execution_count": 15,
      "outputs": [
        {
          "output_type": "execute_result",
          "data": {
            "text/plain": [
              "((7178, 2304), (28709, 2304), (28709,), (7178,))"
            ]
          },
          "metadata": {
            "tags": []
          },
          "execution_count": 15
        }
      ]
    },
    {
      "cell_type": "code",
      "metadata": {
        "id": "o3SyiQcxcBX-"
      },
      "source": [
        "x_train_f=x_train.reshape(x_train.shape[0],48,48,1)\n",
        "x_test_f=x_test.reshape(x_test.shape[0],48,48,1)"
      ],
      "execution_count": 16,
      "outputs": []
    },
    {
      "cell_type": "code",
      "metadata": {
        "id": "VNUqZeCdcBX-",
        "colab": {
          "base_uri": "https://localhost:8080/"
        },
        "outputId": "513d8455-28e1-423e-89b6-fd1618339140"
      },
      "source": [
        "#NORMALISATIOn\n",
        "x_train_f/=255\n",
        "x_test_f/=255\n",
        "\n",
        "print(x_train_f)"
      ],
      "execution_count": 17,
      "outputs": [
        {
          "output_type": "stream",
          "text": [
            "[[[[0.27450982]\n",
            "   [0.3137255 ]\n",
            "   [0.32156864]\n",
            "   ...\n",
            "   [0.20392157]\n",
            "   [0.16862746]\n",
            "   [0.16078432]]\n",
            "\n",
            "  [[0.25490198]\n",
            "   [0.23921569]\n",
            "   [0.22745098]\n",
            "   ...\n",
            "   [0.21960784]\n",
            "   [0.20392157]\n",
            "   [0.17254902]]\n",
            "\n",
            "  [[0.19607843]\n",
            "   [0.16862746]\n",
            "   [0.21176471]\n",
            "   ...\n",
            "   [0.19215687]\n",
            "   [0.21960784]\n",
            "   [0.18431373]]\n",
            "\n",
            "  ...\n",
            "\n",
            "  [[0.35686275]\n",
            "   [0.25490198]\n",
            "   [0.16470589]\n",
            "   ...\n",
            "   [0.28235295]\n",
            "   [0.21960784]\n",
            "   [0.16862746]]\n",
            "\n",
            "  [[0.3019608 ]\n",
            "   [0.32156864]\n",
            "   [0.30980393]\n",
            "   ...\n",
            "   [0.4117647 ]\n",
            "   [0.27450982]\n",
            "   [0.18039216]]\n",
            "\n",
            "  [[0.3019608 ]\n",
            "   [0.28235295]\n",
            "   [0.32941177]\n",
            "   ...\n",
            "   [0.41568628]\n",
            "   [0.42745098]\n",
            "   [0.32156864]]]\n",
            "\n",
            "\n",
            " [[[0.5921569 ]\n",
            "   [0.5882353 ]\n",
            "   [0.5764706 ]\n",
            "   ...\n",
            "   [0.5058824 ]\n",
            "   [0.54901963]\n",
            "   [0.47058824]]\n",
            "\n",
            "  [[0.5921569 ]\n",
            "   [0.58431375]\n",
            "   [0.58431375]\n",
            "   ...\n",
            "   [0.47843137]\n",
            "   [0.5529412 ]\n",
            "   [0.5372549 ]]\n",
            "\n",
            "  [[0.5921569 ]\n",
            "   [0.5921569 ]\n",
            "   [0.6117647 ]\n",
            "   ...\n",
            "   [0.42745098]\n",
            "   [0.48235294]\n",
            "   [0.57254905]]\n",
            "\n",
            "  ...\n",
            "\n",
            "  [[0.7372549 ]\n",
            "   [0.7372549 ]\n",
            "   [0.4745098 ]\n",
            "   ...\n",
            "   [0.7254902 ]\n",
            "   [0.7254902 ]\n",
            "   [0.7294118 ]]\n",
            "\n",
            "  [[0.7372549 ]\n",
            "   [0.73333335]\n",
            "   [0.76862746]\n",
            "   ...\n",
            "   [0.7294118 ]\n",
            "   [0.7137255 ]\n",
            "   [0.73333335]]\n",
            "\n",
            "  [[0.7294118 ]\n",
            "   [0.72156864]\n",
            "   [0.7254902 ]\n",
            "   ...\n",
            "   [0.75686276]\n",
            "   [0.7176471 ]\n",
            "   [0.72156864]]]\n",
            "\n",
            "\n",
            " [[[0.90588236]\n",
            "   [0.83137256]\n",
            "   [0.6117647 ]\n",
            "   ...\n",
            "   [0.17254902]\n",
            "   [0.10588235]\n",
            "   [0.0627451 ]]\n",
            "\n",
            "  [[0.8980392 ]\n",
            "   [0.6862745 ]\n",
            "   [0.5803922 ]\n",
            "   ...\n",
            "   [0.10588235]\n",
            "   [0.13725491]\n",
            "   [0.10588235]]\n",
            "\n",
            "  [[0.8392157 ]\n",
            "   [0.6117647 ]\n",
            "   [0.6156863 ]\n",
            "   ...\n",
            "   [0.10980392]\n",
            "   [0.08627451]\n",
            "   [0.10980392]]\n",
            "\n",
            "  ...\n",
            "\n",
            "  [[0.94509804]\n",
            "   [0.9607843 ]\n",
            "   [0.98039216]\n",
            "   ...\n",
            "   [0.22352941]\n",
            "   [0.39607844]\n",
            "   [0.57254905]]\n",
            "\n",
            "  [[0.9647059 ]\n",
            "   [0.98039216]\n",
            "   [0.9882353 ]\n",
            "   ...\n",
            "   [0.30588236]\n",
            "   [0.4117647 ]\n",
            "   [0.63529414]]\n",
            "\n",
            "  [[0.98039216]\n",
            "   [0.9843137 ]\n",
            "   [0.98039216]\n",
            "   ...\n",
            "   [0.34509805]\n",
            "   [0.43137255]\n",
            "   [0.59607846]]]\n",
            "\n",
            "\n",
            " ...\n",
            "\n",
            "\n",
            " [[[0.2901961 ]\n",
            "   [0.31764707]\n",
            "   [0.34117648]\n",
            "   ...\n",
            "   [0.7411765 ]\n",
            "   [0.7490196 ]\n",
            "   [0.7529412 ]]\n",
            "\n",
            "  [[0.30588236]\n",
            "   [0.32156864]\n",
            "   [0.34901962]\n",
            "   ...\n",
            "   [0.7254902 ]\n",
            "   [0.7411765 ]\n",
            "   [0.75686276]]\n",
            "\n",
            "  [[0.31764707]\n",
            "   [0.3372549 ]\n",
            "   [0.36862746]\n",
            "   ...\n",
            "   [0.6901961 ]\n",
            "   [0.7254902 ]\n",
            "   [0.75686276]]\n",
            "\n",
            "  ...\n",
            "\n",
            "  [[0.3529412 ]\n",
            "   [0.3882353 ]\n",
            "   [0.44313726]\n",
            "   ...\n",
            "   [0.7529412 ]\n",
            "   [0.7647059 ]\n",
            "   [0.77254903]]\n",
            "\n",
            "  [[0.34509805]\n",
            "   [0.3764706 ]\n",
            "   [0.44705883]\n",
            "   ...\n",
            "   [0.7529412 ]\n",
            "   [0.7607843 ]\n",
            "   [0.7529412 ]]\n",
            "\n",
            "  [[0.34509805]\n",
            "   [0.38039216]\n",
            "   [0.43137255]\n",
            "   ...\n",
            "   [0.7372549 ]\n",
            "   [0.73333335]\n",
            "   [0.73333335]]]\n",
            "\n",
            "\n",
            " [[[0.87058824]\n",
            "   [0.8901961 ]\n",
            "   [0.79607844]\n",
            "   ...\n",
            "   [0.5411765 ]\n",
            "   [0.5176471 ]\n",
            "   [0.47843137]]\n",
            "\n",
            "  [[0.87058824]\n",
            "   [0.8862745 ]\n",
            "   [0.79607844]\n",
            "   ...\n",
            "   [0.5568628 ]\n",
            "   [0.53333336]\n",
            "   [0.49803922]]\n",
            "\n",
            "  [[0.87058824]\n",
            "   [0.88235295]\n",
            "   [0.80784315]\n",
            "   ...\n",
            "   [0.5764706 ]\n",
            "   [0.56078434]\n",
            "   [0.5058824 ]]\n",
            "\n",
            "  ...\n",
            "\n",
            "  [[0.7019608 ]\n",
            "   [0.7058824 ]\n",
            "   [0.69411767]\n",
            "   ...\n",
            "   [0.5529412 ]\n",
            "   [0.54509807]\n",
            "   [0.5372549 ]]\n",
            "\n",
            "  [[0.7372549 ]\n",
            "   [0.7137255 ]\n",
            "   [0.6901961 ]\n",
            "   ...\n",
            "   [0.5411765 ]\n",
            "   [0.53333336]\n",
            "   [0.5294118 ]]\n",
            "\n",
            "  [[0.70980394]\n",
            "   [0.65882355]\n",
            "   [0.60784316]\n",
            "   ...\n",
            "   [0.53333336]\n",
            "   [0.53333336]\n",
            "   [0.5254902 ]]]\n",
            "\n",
            "\n",
            " [[[0.7647059 ]\n",
            "   [0.78039217]\n",
            "   [0.8039216 ]\n",
            "   ...\n",
            "   [0.7137255 ]\n",
            "   [0.54901963]\n",
            "   [0.3019608 ]]\n",
            "\n",
            "  [[0.75686276]\n",
            "   [0.76862746]\n",
            "   [0.7921569 ]\n",
            "   ...\n",
            "   [0.77254903]\n",
            "   [0.64705884]\n",
            "   [0.4117647 ]]\n",
            "\n",
            "  [[0.7764706 ]\n",
            "   [0.78431374]\n",
            "   [0.8       ]\n",
            "   ...\n",
            "   [0.8156863 ]\n",
            "   [0.76862746]\n",
            "   [0.6156863 ]]\n",
            "\n",
            "  ...\n",
            "\n",
            "  [[0.22352941]\n",
            "   [0.28627452]\n",
            "   [0.32941177]\n",
            "   ...\n",
            "   [0.01176471]\n",
            "   [0.07843138]\n",
            "   [0.12941177]]\n",
            "\n",
            "  [[0.23921569]\n",
            "   [0.28627452]\n",
            "   [0.3764706 ]\n",
            "   ...\n",
            "   [0.02352941]\n",
            "   [0.07450981]\n",
            "   [0.16078432]]\n",
            "\n",
            "  [[0.23921569]\n",
            "   [0.30980393]\n",
            "   [0.37254903]\n",
            "   ...\n",
            "   [0.02352941]\n",
            "   [0.05882353]\n",
            "   [0.14901961]]]]\n"
          ],
          "name": "stdout"
        }
      ]
    },
    {
      "cell_type": "code",
      "metadata": {
        "id": "oaNl9Y2ecBX-"
      },
      "source": [
        "y_test=to_categorical(y_test)\n",
        "y_train=to_categorical(y_train)"
      ],
      "execution_count": 18,
      "outputs": []
    },
    {
      "cell_type": "code",
      "metadata": {
        "id": "8RHSvFBWAtry"
      },
      "source": [
        "from keras.preprocessing.image import ImageDataGenerator\r\n",
        "import os\r\n",
        "\r\n",
        "\r\n",
        "train_datagen = ImageDataGenerator(\r\n",
        "    rescale=1./255,\r\n",
        "    rotation_range=30,\r\n",
        "    shear_range=0.3,\r\n",
        "    zoom_range=0.3,\r\n",
        "    width_shift_range=0.4,\r\n",
        "    height_shift_range=0.4,\r\n",
        "    horizontal_flip=True,\r\n",
        "    fill_mode='nearest')\r\n",
        "validation_datagen = ImageDataGenerator(rescale=1./255)"
      ],
      "execution_count": 19,
      "outputs": []
    },
    {
      "cell_type": "code",
      "metadata": {
        "id": "rTmkF8x9CDhF"
      },
      "source": [
        "train_data_dir='/content/drive/MyDrive/FaceRecognition/train/train.csv'\r\n",
        "validation_data_dir='/content/drive/MyDrive/FaceRecognition/test/test.csv'"
      ],
      "execution_count": 20,
      "outputs": []
    },
    {
      "cell_type": "code",
      "metadata": {
        "id": "CU6h-mg9BXXX",
        "colab": {
          "base_uri": "https://localhost:8080/"
        },
        "outputId": "c6602589-472b-48e6-8d3c-254e024bb491"
      },
      "source": [
        "\r\n",
        "train_generator = train_datagen.flow_from_directory(\r\n",
        "                        '/content/drive/MyDrive/FaceRecognition/train/',\r\n",
        "                        color_mode='grayscale',\r\n",
        "                        target_size=(48,48),\r\n",
        "                        batch_size=32,\r\n",
        "                        class_mode='categorical',\r\n",
        "                        shuffle=True)\r\n",
        "\r\n",
        "validation_generator = validation_datagen.flow_from_directory(\r\n",
        "                                '/content/drive/MyDrive/FaceRecognition/test/',\r\n",
        "                                color_mode='grayscale',\r\n",
        "                                target_size=(48,48),\r\n",
        "                                batch_size=32,\r\n",
        "                                class_mode='categorical',\r\n",
        "                                shuffle=True)"
      ],
      "execution_count": 21,
      "outputs": [
        {
          "output_type": "stream",
          "text": [
            "Found 0 images belonging to 0 classes.\n",
            "Found 0 images belonging to 0 classes.\n"
          ],
          "name": "stdout"
        }
      ]
    },
    {
      "cell_type": "code",
      "metadata": {
        "id": "1sVeZJ-Ib8H6"
      },
      "source": [
        "train_aug = ImageDataGenerator(rotation_range=10,\r\n",
        "                               zoom_range=0.1,\r\n",
        "                               horizontal_flip=True,\r\n",
        "                               rescale=1 / 255.0,\r\n",
        "                               fill_mode=\"nearest\")"
      ],
      "execution_count": 22,
      "outputs": []
    },
    {
      "cell_type": "code",
      "metadata": {
        "id": "vU2xhmzkcBX_"
      },
      "source": [
        "#Initialize Parameters\n",
        "num_classes = 7\n",
        "epochs = 55\n",
        "batch_size = 100\n",
        "num_features = 32\n",
        "width, height = 48,48"
      ],
      "execution_count": 23,
      "outputs": []
    },
    {
      "cell_type": "markdown",
      "metadata": {
        "id": "roAOkmrVcBX_"
      },
      "source": [
        "model = Sequential()\n",
        "\n",
        "model.add(Conv2D(32, (3, 3), activation='relu', input_shape=(48, 48, 1)))\n",
        "model.add(MaxPooling2D((2, 2)))\n",
        "model.add(Conv2D(64, (3, 3), activation='relu'))\n",
        "model.add(MaxPooling2D((2, 2)))\n",
        "model.add(Conv2D(64, (3, 3), activation='relu'))\n",
        "model.add(Flatten())\n",
        "model.add(Dense(64, activation='relu'))\n",
        "model.add(Dense(7, activation='softmax'))\n",
        "\n",
        "model.summary()"
      ]
    },
    {
      "cell_type": "code",
      "metadata": {
        "id": "x8-a-vFfcBX_",
        "colab": {
          "base_uri": "https://localhost:8080/"
        },
        "outputId": "12b3759d-f67b-4be7-9747-5ecbbed54e19"
      },
      "source": [
        "model=Sequential()\n",
        "model.add(Conv2D(64, (3, 3), activation='relu', strides = (1,1), padding = 'same', input_shape=(48, 48, 1)))\n",
        "model.add(MaxPooling2D((2,2)))\n",
        "model.add(Dropout(0.5))\n",
        "\n",
        "model.add(Conv2D(128, (3, 3), activation='relu',strides = (1,1), padding = 'same', input_shape=(48, 48, 1)))\n",
        "model.add(MaxPooling2D((2,2)))\n",
        "model.add(Dropout(0.5))\n",
        "\n",
        "model.add(Conv2D(256, (3, 3), activation='relu',strides = (1,1), padding = 'same', input_shape=(48, 48, 1)))\n",
        "model.add(MaxPooling2D((2,2)))\n",
        "model.add(Dropout(0.5))\n",
        "\n",
        "\n",
        "\n",
        "model.add(Flatten())\n",
        "\n",
        "model.add(Dense(1024,activation='relu'))\n",
        "model.add(Dropout(0.5))\n",
        "\n",
        "\n",
        "model.add(Dense(7,activation='softmax'))\n",
        "\n",
        "\n",
        "\n",
        "\n",
        "print(model.summary())"
      ],
      "execution_count": 24,
      "outputs": [
        {
          "output_type": "stream",
          "text": [
            "Model: \"sequential\"\n",
            "_________________________________________________________________\n",
            "Layer (type)                 Output Shape              Param #   \n",
            "=================================================================\n",
            "conv2d (Conv2D)              (None, 48, 48, 64)        640       \n",
            "_________________________________________________________________\n",
            "max_pooling2d (MaxPooling2D) (None, 24, 24, 64)        0         \n",
            "_________________________________________________________________\n",
            "dropout (Dropout)            (None, 24, 24, 64)        0         \n",
            "_________________________________________________________________\n",
            "conv2d_1 (Conv2D)            (None, 24, 24, 128)       73856     \n",
            "_________________________________________________________________\n",
            "max_pooling2d_1 (MaxPooling2 (None, 12, 12, 128)       0         \n",
            "_________________________________________________________________\n",
            "dropout_1 (Dropout)          (None, 12, 12, 128)       0         \n",
            "_________________________________________________________________\n",
            "conv2d_2 (Conv2D)            (None, 12, 12, 256)       295168    \n",
            "_________________________________________________________________\n",
            "max_pooling2d_2 (MaxPooling2 (None, 6, 6, 256)         0         \n",
            "_________________________________________________________________\n",
            "dropout_2 (Dropout)          (None, 6, 6, 256)         0         \n",
            "_________________________________________________________________\n",
            "flatten (Flatten)            (None, 9216)              0         \n",
            "_________________________________________________________________\n",
            "dense (Dense)                (None, 1024)              9438208   \n",
            "_________________________________________________________________\n",
            "dropout_3 (Dropout)          (None, 1024)              0         \n",
            "_________________________________________________________________\n",
            "dense_1 (Dense)              (None, 7)                 7175      \n",
            "=================================================================\n",
            "Total params: 9,815,047\n",
            "Trainable params: 9,815,047\n",
            "Non-trainable params: 0\n",
            "_________________________________________________________________\n",
            "None\n"
          ],
          "name": "stdout"
        }
      ]
    },
    {
      "cell_type": "markdown",
      "metadata": {
        "id": "n_QWnhpFLY_p"
      },
      "source": [
        "model = Sequential()\r\n",
        "model.add(Conv2D(input_shape=(48,48,1),filters=64,kernel_size=(3,3),padding=\"same\", activation=\"relu\"))\r\n",
        "model.add(Conv2D(filters=64,kernel_size=(3,3),padding=\"same\", activation=\"relu\"))\r\n",
        "model.add(MaxPooling2D(pool_size=(2,2),strides=(2,2)))\r\n",
        "model.add(Conv2D(filters=128, kernel_size=(3,3), padding=\"same\", activation=\"relu\"))\r\n",
        "model.add(Conv2D(filters=128, kernel_size=(3,3), padding=\"same\", activation=\"relu\"))\r\n",
        "model.add(MaxPooling2D(pool_size=(2,2),strides=(2,2)))\r\n",
        "model.add(Conv2D(filters=256, kernel_size=(3,3), padding=\"same\", activation=\"relu\"))\r\n",
        "model.add(Conv2D(filters=256, kernel_size=(3,3), padding=\"same\", activation=\"relu\"))\r\n",
        "model.add(Conv2D(filters=256, kernel_size=(3,3), padding=\"same\", activation=\"relu\"))\r\n",
        "model.add(MaxPooling2D(pool_size=(2,2),strides=(2,2)))\r\n",
        "model.add(Conv2D(filters=512, kernel_size=(3,3), padding=\"same\", activation=\"relu\"))\r\n",
        "model.add(Conv2D(filters=512, kernel_size=(3,3), padding=\"same\", activation=\"relu\"))\r\n",
        "model.add(Conv2D(filters=512, kernel_size=(3,3), padding=\"same\", activation=\"relu\"))\r\n",
        "model.add(MaxPooling2D(pool_size=(2,2),strides=(2,2)))\r\n",
        "model.add(Conv2D(filters=512, kernel_size=(3,3), padding=\"same\", activation=\"relu\"))\r\n",
        "model.add(Conv2D(filters=512, kernel_size=(3,3), padding=\"same\", activation=\"relu\"))\r\n",
        "model.add(Conv2D(filters=512, kernel_size=(3,3), padding=\"same\", activation=\"relu\"))\r\n",
        "model.add(MaxPooling2D(pool_size=(2,2),strides=(2,2)))\r\n",
        "\r\n",
        "\r\n",
        "model.add(Flatten())\r\n",
        "model.add(Dense(units=4096,activation=\"relu\"))\r\n",
        "model.add(Dense(units=4096,activation=\"relu\"))\r\n",
        "model.add(Dense(units=7, activation=\"softmax\"))\r\n",
        "\r\n",
        "\r\n",
        "print(model.summary())"
      ]
    },
    {
      "cell_type": "code",
      "metadata": {
        "id": "TWq_ksywcBYA",
        "colab": {
          "base_uri": "https://localhost:8080/"
        },
        "outputId": "3918fc4d-933d-4869-b75c-2d721a2ae0af"
      },
      "source": [
        "import tensorflow.keras as keras\n",
        "from keras.callbacks import ModelCheckpoint, EarlyStopping, ReduceLROnPlateau\n",
        "\n",
        "model.compile(loss=\"categorical_crossentropy\",     # Fonction d'erreur\n",
        "            optimizer=Adam(learning_rate=0.001), # Optimisation de l'apprentissage\n",
        "              metrics=[\"accuracy\"])\n",
        "\n",
        "\n",
        "es = keras.callbacks.EarlyStopping(monitor='val_loss',patience=3,min_delta=0.001)\n",
        "\n",
        "reduce_lr = ReduceLROnPlateau(monitor='val_loss',\n",
        "                              factor=0.2,\n",
        "                              patience=3,\n",
        "                              verbose=1,\n",
        "                              min_delta=0.0001)\n",
        "\n",
        "\n",
        "checkpoint = ModelCheckpoint('/content/drive/MyDrive/FaceRecognition/model_weights.h5',\n",
        "                             monitor='val_loss',\n",
        "                             mode='min',\n",
        "                             save_best_only=True,\n",
        "                             verbose=1)\n",
        "\n",
        "\n",
        "\n",
        "history3=model.fit(x_train_f,y_train,epochs=epochs,batch_size=batch_size,validation_data=(x_test_f,y_test),callbacks=[es,reduce_lr,checkpoint])\n",
        "history3"
      ],
      "execution_count": 25,
      "outputs": [
        {
          "output_type": "stream",
          "text": [
            "Epoch 1/55\n",
            "288/288 [==============================] - 21s 49ms/step - loss: 1.8929 - accuracy: 0.2248 - val_loss: 1.7841 - val_accuracy: 0.2608\n",
            "\n",
            "Epoch 00001: val_loss improved from inf to 1.78411, saving model to /content/drive/MyDrive/FaceRecognition/model_weights.h5\n",
            "Epoch 2/55\n",
            "288/288 [==============================] - 14s 48ms/step - loss: 1.7189 - accuracy: 0.3062 - val_loss: 1.5909 - val_accuracy: 0.3890\n",
            "\n",
            "Epoch 00002: val_loss improved from 1.78411 to 1.59090, saving model to /content/drive/MyDrive/FaceRecognition/model_weights.h5\n",
            "Epoch 3/55\n",
            "288/288 [==============================] - 14s 47ms/step - loss: 1.5837 - accuracy: 0.3819 - val_loss: 1.4784 - val_accuracy: 0.4248\n",
            "\n",
            "Epoch 00003: val_loss improved from 1.59090 to 1.47838, saving model to /content/drive/MyDrive/FaceRecognition/model_weights.h5\n",
            "Epoch 4/55\n",
            "288/288 [==============================] - 14s 47ms/step - loss: 1.5044 - accuracy: 0.4165 - val_loss: 1.3689 - val_accuracy: 0.4746\n",
            "\n",
            "Epoch 00004: val_loss improved from 1.47838 to 1.36888, saving model to /content/drive/MyDrive/FaceRecognition/model_weights.h5\n",
            "Epoch 5/55\n",
            "288/288 [==============================] - 14s 47ms/step - loss: 1.4306 - accuracy: 0.4446 - val_loss: 1.3177 - val_accuracy: 0.5038\n",
            "\n",
            "Epoch 00005: val_loss improved from 1.36888 to 1.31771, saving model to /content/drive/MyDrive/FaceRecognition/model_weights.h5\n",
            "Epoch 6/55\n",
            "288/288 [==============================] - 14s 47ms/step - loss: 1.3900 - accuracy: 0.4604 - val_loss: 1.2941 - val_accuracy: 0.5103\n",
            "\n",
            "Epoch 00006: val_loss improved from 1.31771 to 1.29413, saving model to /content/drive/MyDrive/FaceRecognition/model_weights.h5\n",
            "Epoch 7/55\n",
            "288/288 [==============================] - 14s 47ms/step - loss: 1.3480 - accuracy: 0.4832 - val_loss: 1.2541 - val_accuracy: 0.5163\n",
            "\n",
            "Epoch 00007: val_loss improved from 1.29413 to 1.25413, saving model to /content/drive/MyDrive/FaceRecognition/model_weights.h5\n",
            "Epoch 8/55\n",
            "288/288 [==============================] - 14s 47ms/step - loss: 1.3102 - accuracy: 0.5017 - val_loss: 1.2384 - val_accuracy: 0.5252\n",
            "\n",
            "Epoch 00008: val_loss improved from 1.25413 to 1.23840, saving model to /content/drive/MyDrive/FaceRecognition/model_weights.h5\n",
            "Epoch 9/55\n",
            "288/288 [==============================] - 14s 47ms/step - loss: 1.2772 - accuracy: 0.5068 - val_loss: 1.1993 - val_accuracy: 0.5460\n",
            "\n",
            "Epoch 00009: val_loss improved from 1.23840 to 1.19934, saving model to /content/drive/MyDrive/FaceRecognition/model_weights.h5\n",
            "Epoch 10/55\n",
            "288/288 [==============================] - 14s 47ms/step - loss: 1.2638 - accuracy: 0.5170 - val_loss: 1.1955 - val_accuracy: 0.5418\n",
            "\n",
            "Epoch 00010: val_loss improved from 1.19934 to 1.19548, saving model to /content/drive/MyDrive/FaceRecognition/model_weights.h5\n",
            "Epoch 11/55\n",
            "288/288 [==============================] - 14s 47ms/step - loss: 1.2422 - accuracy: 0.5268 - val_loss: 1.1767 - val_accuracy: 0.5570\n",
            "\n",
            "Epoch 00011: val_loss improved from 1.19548 to 1.17667, saving model to /content/drive/MyDrive/FaceRecognition/model_weights.h5\n",
            "Epoch 12/55\n",
            "288/288 [==============================] - 14s 47ms/step - loss: 1.2152 - accuracy: 0.5399 - val_loss: 1.1707 - val_accuracy: 0.5559\n",
            "\n",
            "Epoch 00012: val_loss improved from 1.17667 to 1.17070, saving model to /content/drive/MyDrive/FaceRecognition/model_weights.h5\n",
            "Epoch 13/55\n",
            "288/288 [==============================] - 14s 47ms/step - loss: 1.2242 - accuracy: 0.5356 - val_loss: 1.1478 - val_accuracy: 0.5638\n",
            "\n",
            "Epoch 00013: val_loss improved from 1.17070 to 1.14782, saving model to /content/drive/MyDrive/FaceRecognition/model_weights.h5\n",
            "Epoch 14/55\n",
            "288/288 [==============================] - 14s 47ms/step - loss: 1.1833 - accuracy: 0.5522 - val_loss: 1.1499 - val_accuracy: 0.5635\n",
            "\n",
            "Epoch 00014: val_loss did not improve from 1.14782\n",
            "Epoch 15/55\n",
            "288/288 [==============================] - 14s 47ms/step - loss: 1.1539 - accuracy: 0.5601 - val_loss: 1.1284 - val_accuracy: 0.5758\n",
            "\n",
            "Epoch 00015: val_loss improved from 1.14782 to 1.12839, saving model to /content/drive/MyDrive/FaceRecognition/model_weights.h5\n",
            "Epoch 16/55\n",
            "288/288 [==============================] - 14s 47ms/step - loss: 1.1343 - accuracy: 0.5670 - val_loss: 1.1266 - val_accuracy: 0.5744\n",
            "\n",
            "Epoch 00016: val_loss improved from 1.12839 to 1.12664, saving model to /content/drive/MyDrive/FaceRecognition/model_weights.h5\n",
            "Epoch 17/55\n",
            "288/288 [==============================] - 14s 47ms/step - loss: 1.1425 - accuracy: 0.5733 - val_loss: 1.1270 - val_accuracy: 0.5727\n",
            "\n",
            "Epoch 00017: val_loss did not improve from 1.12664\n",
            "Epoch 18/55\n",
            "288/288 [==============================] - 14s 47ms/step - loss: 1.1120 - accuracy: 0.5813 - val_loss: 1.1178 - val_accuracy: 0.5790\n",
            "\n",
            "Epoch 00018: val_loss improved from 1.12664 to 1.11779, saving model to /content/drive/MyDrive/FaceRecognition/model_weights.h5\n",
            "Epoch 19/55\n",
            "288/288 [==============================] - 14s 47ms/step - loss: 1.0928 - accuracy: 0.5874 - val_loss: 1.1001 - val_accuracy: 0.5883\n",
            "\n",
            "Epoch 00019: val_loss improved from 1.11779 to 1.10015, saving model to /content/drive/MyDrive/FaceRecognition/model_weights.h5\n",
            "Epoch 20/55\n",
            "288/288 [==============================] - 14s 48ms/step - loss: 1.0794 - accuracy: 0.5963 - val_loss: 1.0984 - val_accuracy: 0.5900\n",
            "\n",
            "Epoch 00020: val_loss improved from 1.10015 to 1.09841, saving model to /content/drive/MyDrive/FaceRecognition/model_weights.h5\n",
            "Epoch 21/55\n",
            "288/288 [==============================] - 14s 47ms/step - loss: 1.0606 - accuracy: 0.6000 - val_loss: 1.0998 - val_accuracy: 0.5915\n",
            "\n",
            "Epoch 00021: val_loss did not improve from 1.09841\n",
            "Epoch 22/55\n",
            "288/288 [==============================] - 14s 47ms/step - loss: 1.0477 - accuracy: 0.6052 - val_loss: 1.0878 - val_accuracy: 0.5926\n",
            "\n",
            "Epoch 00022: val_loss improved from 1.09841 to 1.08777, saving model to /content/drive/MyDrive/FaceRecognition/model_weights.h5\n",
            "Epoch 23/55\n",
            "288/288 [==============================] - 14s 47ms/step - loss: 1.0445 - accuracy: 0.6055 - val_loss: 1.0849 - val_accuracy: 0.5947\n",
            "\n",
            "Epoch 00023: val_loss improved from 1.08777 to 1.08494, saving model to /content/drive/MyDrive/FaceRecognition/model_weights.h5\n",
            "Epoch 24/55\n",
            "288/288 [==============================] - 14s 47ms/step - loss: 1.0147 - accuracy: 0.6135 - val_loss: 1.0844 - val_accuracy: 0.5997\n",
            "\n",
            "Epoch 00024: val_loss improved from 1.08494 to 1.08436, saving model to /content/drive/MyDrive/FaceRecognition/model_weights.h5\n",
            "Epoch 25/55\n",
            "288/288 [==============================] - 14s 47ms/step - loss: 1.0134 - accuracy: 0.6230 - val_loss: 1.0815 - val_accuracy: 0.5921\n",
            "\n",
            "Epoch 00025: val_loss improved from 1.08436 to 1.08152, saving model to /content/drive/MyDrive/FaceRecognition/model_weights.h5\n",
            "Epoch 26/55\n",
            "288/288 [==============================] - 14s 47ms/step - loss: 0.9856 - accuracy: 0.6289 - val_loss: 1.0736 - val_accuracy: 0.6006\n",
            "\n",
            "Epoch 00026: val_loss improved from 1.08152 to 1.07359, saving model to /content/drive/MyDrive/FaceRecognition/model_weights.h5\n",
            "Epoch 27/55\n",
            "288/288 [==============================] - 14s 47ms/step - loss: 0.9768 - accuracy: 0.6365 - val_loss: 1.0805 - val_accuracy: 0.6004\n",
            "\n",
            "Epoch 00027: val_loss did not improve from 1.07359\n",
            "Epoch 28/55\n",
            "288/288 [==============================] - 14s 47ms/step - loss: 0.9483 - accuracy: 0.6448 - val_loss: 1.0789 - val_accuracy: 0.6013\n",
            "\n",
            "Epoch 00028: val_loss did not improve from 1.07359\n",
            "Epoch 29/55\n",
            "288/288 [==============================] - 14s 47ms/step - loss: 0.9431 - accuracy: 0.6490 - val_loss: 1.0834 - val_accuracy: 0.5967\n",
            "\n",
            "Epoch 00029: ReduceLROnPlateau reducing learning rate to 0.00020000000949949026.\n",
            "\n",
            "Epoch 00029: val_loss did not improve from 1.07359\n"
          ],
          "name": "stdout"
        },
        {
          "output_type": "execute_result",
          "data": {
            "text/plain": [
              "<tensorflow.python.keras.callbacks.History at 0x7fd9e8a987f0>"
            ]
          },
          "metadata": {
            "tags": []
          },
          "execution_count": 25
        }
      ]
    },
    {
      "cell_type": "code",
      "metadata": {
        "id": "0J_RGR09cBYA",
        "colab": {
          "base_uri": "https://localhost:8080/",
          "height": 294
        },
        "outputId": "ce0ceb4f-8f4f-4aa6-edda-18cd8d23e141"
      },
      "source": [
        "  import keras\n",
        "from matplotlib import pyplot as plt\n",
        "\n",
        "plt.plot(history3.history['accuracy'])\n",
        "plt.plot(history3.history['val_accuracy'])\n",
        "plt.title('model accuracy')\n",
        "plt.ylabel('accuracy')\n",
        "plt.xlabel('epoch')\n",
        "plt.legend(['training accuracy', 'val accuracy'], loc='upper left')\n",
        "plt.show()\n"
      ],
      "execution_count": 26,
      "outputs": [
        {
          "output_type": "display_data",
          "data": {
            "image/png": "[encoded data removed]",
            "text/plain": [
              "<Figure size 432x288 with 1 Axes>"
            ]
          },
          "metadata": {
            "tags": [],
            "needs_background": "light"
          }
        }
      ]
    },
    {
      "cell_type": "code",
      "metadata": {
        "id": "qbSkv-R0sjI8",
        "colab": {
          "base_uri": "https://localhost:8080/",
          "height": 1000
        },
        "outputId": "49ed1fac-dcfa-464a-ff2b-777356e95841"
      },
      "source": [
        "import tensorflow as tf\r\n",
        "\r\n",
        "tf.keras.utils.plot_model(model,show_shapes=True)"
      ],
      "execution_count": 27,
      "outputs": [
        {
          "output_type": "execute_result",
          "data": {
            "image/png": "[encoded data removed]",
            "text/plain": [
              "<IPython.core.display.Image object>"
            ]
          },
          "metadata": {
            "tags": []
          },
          "execution_count": 27
        }
      ]
    },
    {
      "cell_type": "code",
      "metadata": {
        "id": "yykZyu9LcBYB",
        "colab": {
          "base_uri": "https://localhost:8080/",
          "height": 294
        },
        "outputId": "439a2a35-0167-4092-bc95-401c1bb86615"
      },
      "source": [
        "import keras\n",
        "from matplotlib import pyplot as plt\n",
        "\n",
        "plt.plot(history3.history['loss'])\n",
        "plt.plot(history3.history['val_loss'])\n",
        "plt.title('model accuracy')\n",
        "plt.ylabel('accuracy')\n",
        "plt.xlabel('epoch')\n",
        "plt.legend(['training loss', 'val accuracy'], loc='upper left')\n",
        "plt.show()"
      ],
      "execution_count": 28,
      "outputs": [
        {
          "output_type": "display_data",
          "data": {
            "image/png": "[encoded data removed]",
            "text/plain": [
              "<Figure size 432x288 with 1 Axes>"
            ]
          },
          "metadata": {
            "tags": [],
            "needs_background": "light"
          }
        }
      ]
    },
    {
      "cell_type": "code",
      "metadata": {
        "id": "3LcTvcPHcBYB",
        "colab": {
          "base_uri": "https://localhost:8080/"
        },
        "outputId": "627cb570-4828-4ce6-a980-515e20b67e7b"
      },
      "source": [
        "score = model.evaluate(x_test_f, y_test, verbose=1)\n",
        "print(\"Test loss:\", score[0])\n",
        "print(\"Test accuracy:\", score[1])"
      ],
      "execution_count": 29,
      "outputs": [
        {
          "output_type": "stream",
          "text": [
            "225/225 [==============================] - 2s 7ms/step - loss: 1.0834 - accuracy: 0.5967\n",
            "Test loss: 1.0834145545959473\n",
            "Test accuracy: 0.5966843366622925\n"
          ],
          "name": "stdout"
        }
      ]
    },
    {
      "cell_type": "code",
      "metadata": {
        "id": "FjZ9VSuIjCaU",
        "colab": {
          "base_uri": "https://localhost:8080/"
        },
        "outputId": "90546b2d-b0b7-40ac-b2a2-e822e0f25001"
      },
      "source": [
        "y_pred=model.predict(x_test_f)\r\n",
        "y_pred_class=model.predict_classes(x_test_f)\r\n"
      ],
      "execution_count": 30,
      "outputs": [
        {
          "output_type": "stream",
          "text": [
            "/usr/local/lib/python3.6/dist-packages/tensorflow/python/keras/engine/sequential.py:450: UserWarning: `model.predict_classes()` is deprecated and will be removed after 2021-01-01. Please use instead:* `np.argmax(model.predict(x), axis=-1)`,   if your model does multi-class classification   (e.g. if it uses a `softmax` last-layer activation).* `(model.predict(x) > 0.5).astype(\"int32\")`,   if your model does binary classification   (e.g. if it uses a `sigmoid` last-layer activation).\n",
            "  warnings.warn('`model.predict_classes()` is deprecated and '\n"
          ],
          "name": "stderr"
        }
      ]
    },
    {
      "cell_type": "code",
      "metadata": {
        "id": "BPsab_NFcBYC",
        "colab": {
          "base_uri": "https://localhost:8080/",
          "height": 337
        },
        "outputId": "0d8c2f6c-2369-4656-e105-288e536a8ff7"
      },
      "source": [
        "from random import randint\n",
        "\n",
        "indice = randint(0, y_test.shape[0]-1)\n",
        "\n",
        "image = x_test_f[indice]\n",
        "label = np.argmax(y_test[indice])\n",
        "\n",
        "image = np.expand_dims(image, 0) # permet d'avoir un batch_size = 1\n",
        "#                                # car l'IA prend des données de dimension 4 (batch_size, hauteur, largeur, channels)\n",
        "#                                # channels sert pour les images en couleurs par exemple (RGB)\n",
        "\n",
        "prediction = model.predict(image)   # On effectue la prédiction\n",
        "\n",
        "prediction = np.squeeze(prediction) # On enlève les dimensions inutiles (ici batch_size : en effet on passe d'une matrice (1, 10) à un vecteur (10,))\n",
        "\n",
        "prediction = np.argmax(prediction)  # Changer [0, 0, 1, 0, 0, 0] en 2 par exemple (mais ici on est sur des vecteurs de dimension 10)\n",
        "\n",
        "import matplotlib.pyplot as plt\n",
        "\n",
        "print(\"\\n Here is a \",emotion_map[label], \" and the model has predicted a \", emotion_map[prediction], \"... \\n\")\n",
        "\n",
        "plt.axis('on')\n",
        "plt.imshow(np.squeeze(image), cmap=plt.get_cmap(\"gray\"));\n",
        "\n",
        "\n",
        "if label == prediction:\n",
        "  print('The model has correctly predicted it !' )\n",
        "else:\n",
        "  print('Error of prediction...')\n",
        "\n",
        "    \n",
        "\n",
        "\n"
      ],
      "execution_count": 31,
      "outputs": [
        {
          "output_type": "stream",
          "text": [
            "\n",
            " Here is a  Sad  and the model has predicted a  Happy ... \n",
            "\n",
            "Error of prediction...\n"
          ],
          "name": "stdout"
        },
        {
          "output_type": "display_data",
          "data": {
            "image/png": "[encoded data removed]",
            "text/plain": [
              "<Figure size 432x288 with 1 Axes>"
            ]
          },
          "metadata": {
            "tags": [],
            "needs_background": "light"
          }
        }
      ]
    },
    {
      "cell_type": "code",
      "metadata": {
        "id": "FbPjVq8UgcDz",
        "colab": {
          "base_uri": "https://localhost:8080/"
        },
        "outputId": "64236a30-789a-457d-bf7b-c461ec80299c"
      },
      "source": [
        "#emotion_map[y_test[indice]]\r\n",
        "y_test[0]"
      ],
      "execution_count": 32,
      "outputs": [
        {
          "output_type": "execute_result",
          "data": {
            "text/plain": [
              "array([1., 0., 0., 0., 0., 0., 0.], dtype=float32)"
            ]
          },
          "metadata": {
            "tags": []
          },
          "execution_count": 32
        }
      ]
    },
    {
      "cell_type": "code",
      "metadata": {
        "id": "mGYLzl4uhiHW",
        "colab": {
          "base_uri": "https://localhost:8080/"
        },
        "outputId": "fb6d893e-2b4c-465a-f3fa-8b9151612dd0"
      },
      "source": [
        "[y_pred[0]]"
      ],
      "execution_count": 33,
      "outputs": [
        {
          "output_type": "execute_result",
          "data": {
            "text/plain": [
              "[array([0.32336134, 0.11573565, 0.05059778, 0.3473642 , 0.103553  ,\n",
              "        0.00790669, 0.0514813 ], dtype=float32)]"
            ]
          },
          "metadata": {
            "tags": []
          },
          "execution_count": 33
        }
      ]
    },
    {
      "cell_type": "code",
      "metadata": {
        "id": "rZhoIcbQ1RZY",
        "colab": {
          "base_uri": "https://localhost:8080/"
        },
        "outputId": "7632c4cd-e39a-4856-c731-9a711541b994"
      },
      "source": [
        "y_proba = model.predict(image)\r\n",
        "randImage = y_proba.round(3)\r\n",
        "randImage = randImage.reshape(7)\r\n",
        "randImage = randImage.tolist()\r\n",
        "randImage"
      ],
      "execution_count": 34,
      "outputs": [
        {
          "output_type": "execute_result",
          "data": {
            "text/plain": [
              "[0.12600000202655792,\n",
              " 0.061000000685453415,\n",
              " 0.12099999934434891,\n",
              " 0.4269999861717224,\n",
              " 0.2160000056028366,\n",
              " 0.014000000432133675,\n",
              " 0.03500000014901161]"
            ]
          },
          "metadata": {
            "tags": []
          },
          "execution_count": 34
        }
      ]
    },
    {
      "cell_type": "code",
      "metadata": {
        "id": "cMLDtZFz12-_",
        "colab": {
          "base_uri": "https://localhost:8080/",
          "height": 35
        },
        "outputId": "80416761-4d2b-43f9-ea25-df96eaeec898"
      },
      "source": [
        "y_pred = np.argmax(model.predict(image), axis=-1)\r\n",
        "emotion_map[y_pred[0]]"
      ],
      "execution_count": 35,
      "outputs": [
        {
          "output_type": "execute_result",
          "data": {
            "application/vnd.google.colaboratory.intrinsic+json": {
              "type": "string"
            },
            "text/plain": [
              "'Happy'"
            ]
          },
          "metadata": {
            "tags": []
          },
          "execution_count": 35
        }
      ]
    },
    {
      "cell_type": "code",
      "metadata": {
        "id": "bTunBpiFYuFi"
      },
      "source": [
        "target_names = ['Angry','Disgust', 'Fear', 'Happy','Sad', 'Surprise', 'Neutral']"
      ],
      "execution_count": 36,
      "outputs": []
    },
    {
      "cell_type": "code",
      "metadata": {
        "id": "OYpqRc-xfVLb",
        "colab": {
          "base_uri": "https://localhost:8080/",
          "height": 626
        },
        "outputId": "dda1a2ff-5ec8-47cb-d6ac-40e0e09b85fe"
      },
      "source": [
        "f = plt.subplots(figsize=(16,10))\r\n",
        "\r\n",
        "plt.bar(target_names,randImage,color=['magenta', 'red', 'green', 'blue', 'cyan','yellow', 'purple'])\r\n",
        "plt.title('Emotion Recognition detection bar plot')\r\n",
        "plt.ylabel('Classification of the predicted emotion ')\r\n",
        "plt.xlabel('Emotion')\r\n",
        "plt.xticks(fontsize = 16)\r\n",
        "plt.show()"
      ],
      "execution_count": 37,
      "outputs": [
        {
          "output_type": "display_data",
          "data": {
            "image/png": "[encoded data removed]",
            "text/plain": [
              "<Figure size 1152x720 with 1 Axes>"
            ]
          },
          "metadata": {
            "tags": [],
            "needs_background": "light"
          }
        }
      ]
    },
    {
      "cell_type": "code",
      "metadata": {
        "id": "f-UzesMSkIev",
        "colab": {
          "base_uri": "https://localhost:8080/",
          "height": 406
        },
        "outputId": "9b69f0c0-0458-4c20-f5ba-d03289b74dcb"
      },
      "source": [
        "data"
      ],
      "execution_count": 38,
      "outputs": [
        {
          "output_type": "execute_result",
          "data": {
            "text/html": [
              "<div>\n",
              "<style scoped>\n",
              "    .dataframe tbody tr th:only-of-type {\n",
              "        vertical-align: middle;\n",
              "    }\n",
              "\n",
              "    .dataframe tbody tr th {\n",
              "        vertical-align: top;\n",
              "    }\n",
              "\n",
              "    .dataframe thead th {\n",
              "        text-align: right;\n",
              "    }\n",
              "</style>\n",
              "<table border=\"1\" class=\"dataframe\">\n",
              "  <thead>\n",
              "    <tr style=\"text-align: right;\">\n",
              "      <th></th>\n",
              "      <th>emotion</th>\n",
              "      <th>Usage</th>\n",
              "      <th>pixels</th>\n",
              "    </tr>\n",
              "  </thead>\n",
              "  <tbody>\n",
              "    <tr>\n",
              "      <th>0</th>\n",
              "      <td>0</td>\n",
              "      <td>Training</td>\n",
              "      <td>70 80 82 72 58 58 60 63 54 58 60 48 89 115 121...</td>\n",
              "    </tr>\n",
              "    <tr>\n",
              "      <th>1</th>\n",
              "      <td>0</td>\n",
              "      <td>Training</td>\n",
              "      <td>151 150 147 155 148 133 111 140 170 174 182 15...</td>\n",
              "    </tr>\n",
              "    <tr>\n",
              "      <th>2</th>\n",
              "      <td>2</td>\n",
              "      <td>Training</td>\n",
              "      <td>231 212 156 164 174 138 161 173 182 200 106 38...</td>\n",
              "    </tr>\n",
              "    <tr>\n",
              "      <th>3</th>\n",
              "      <td>4</td>\n",
              "      <td>Training</td>\n",
              "      <td>24 32 36 30 32 23 19 20 30 41 21 22 32 34 21 1...</td>\n",
              "    </tr>\n",
              "    <tr>\n",
              "      <th>4</th>\n",
              "      <td>6</td>\n",
              "      <td>Training</td>\n",
              "      <td>4 0 0 0 0 0 0 0 0 0 0 0 3 15 23 28 48 50 58 84...</td>\n",
              "    </tr>\n",
              "    <tr>\n",
              "      <th>...</th>\n",
              "      <td>...</td>\n",
              "      <td>...</td>\n",
              "      <td>...</td>\n",
              "    </tr>\n",
              "    <tr>\n",
              "      <th>35882</th>\n",
              "      <td>6</td>\n",
              "      <td>PrivateTest</td>\n",
              "      <td>50 36 17 22 23 29 33 39 34 37 37 37 39 43 48 5...</td>\n",
              "    </tr>\n",
              "    <tr>\n",
              "      <th>35883</th>\n",
              "      <td>3</td>\n",
              "      <td>PrivateTest</td>\n",
              "      <td>178 174 172 173 181 188 191 194 196 199 200 20...</td>\n",
              "    </tr>\n",
              "    <tr>\n",
              "      <th>35884</th>\n",
              "      <td>0</td>\n",
              "      <td>PrivateTest</td>\n",
              "      <td>17 17 16 23 28 22 19 17 25 26 20 24 31 19 27 9...</td>\n",
              "    </tr>\n",
              "    <tr>\n",
              "      <th>35885</th>\n",
              "      <td>3</td>\n",
              "      <td>PrivateTest</td>\n",
              "      <td>30 28 28 29 31 30 42 68 79 81 77 67 67 71 63 6...</td>\n",
              "    </tr>\n",
              "    <tr>\n",
              "      <th>35886</th>\n",
              "      <td>2</td>\n",
              "      <td>PrivateTest</td>\n",
              "      <td>19 13 14 12 13 16 21 33 50 57 71 84 97 108 122...</td>\n",
              "    </tr>\n",
              "  </tbody>\n",
              "</table>\n",
              "<p>35887 rows × 3 columns</p>\n",
              "</div>"
            ],
            "text/plain": [
              "       emotion        Usage                                             pixels\n",
              "0            0     Training  70 80 82 72 58 58 60 63 54 58 60 48 89 115 121...\n",
              "1            0     Training  151 150 147 155 148 133 111 140 170 174 182 15...\n",
              "2            2     Training  231 212 156 164 174 138 161 173 182 200 106 38...\n",
              "3            4     Training  24 32 36 30 32 23 19 20 30 41 21 22 32 34 21 1...\n",
              "4            6     Training  4 0 0 0 0 0 0 0 0 0 0 0 3 15 23 28 48 50 58 84...\n",
              "...        ...          ...                                                ...\n",
              "35882        6  PrivateTest  50 36 17 22 23 29 33 39 34 37 37 37 39 43 48 5...\n",
              "35883        3  PrivateTest  178 174 172 173 181 188 191 194 196 199 200 20...\n",
              "35884        0  PrivateTest  17 17 16 23 28 22 19 17 25 26 20 24 31 19 27 9...\n",
              "35885        3  PrivateTest  30 28 28 29 31 30 42 68 79 81 77 67 67 71 63 6...\n",
              "35886        2  PrivateTest  19 13 14 12 13 16 21 33 50 57 71 84 97 108 122...\n",
              "\n",
              "[35887 rows x 3 columns]"
            ]
          },
          "metadata": {
            "tags": []
          },
          "execution_count": 38
        }
      ]
    },
    {
      "cell_type": "code",
      "metadata": {
        "id": "TgiMcsW3jLSn",
        "colab": {
          "base_uri": "https://localhost:8080/",
          "height": 406
        },
        "outputId": "957660f3-ad6a-4279-8fb6-e5166a561e5c"
      },
      "source": [
        "data['Emotion2'] = data['emotion']\r\n",
        "\r\n",
        "emotion_map = {0: 'Angry', 1: 'Disgust', 2: 'Fear', 3: 'Happy', 4: 'Sad', 5: 'Surprise', 6: 'Neutral'}\r\n",
        "\r\n",
        "\r\n",
        "\r\n",
        "data['Emotion2']=data['emotion'].map(emotion_map)\r\n",
        "data\r\n"
      ],
      "execution_count": 39,
      "outputs": [
        {
          "output_type": "execute_result",
          "data": {
            "text/html": [
              "<div>\n",
              "<style scoped>\n",
              "    .dataframe tbody tr th:only-of-type {\n",
              "        vertical-align: middle;\n",
              "    }\n",
              "\n",
              "    .dataframe tbody tr th {\n",
              "        vertical-align: top;\n",
              "    }\n",
              "\n",
              "    .dataframe thead th {\n",
              "        text-align: right;\n",
              "    }\n",
              "</style>\n",
              "<table border=\"1\" class=\"dataframe\">\n",
              "  <thead>\n",
              "    <tr style=\"text-align: right;\">\n",
              "      <th></th>\n",
              "      <th>emotion</th>\n",
              "      <th>Usage</th>\n",
              "      <th>pixels</th>\n",
              "      <th>Emotion2</th>\n",
              "    </tr>\n",
              "  </thead>\n",
              "  <tbody>\n",
              "    <tr>\n",
              "      <th>0</th>\n",
              "      <td>0</td>\n",
              "      <td>Training</td>\n",
              "      <td>70 80 82 72 58 58 60 63 54 58 60 48 89 115 121...</td>\n",
              "      <td>Angry</td>\n",
              "    </tr>\n",
              "    <tr>\n",
              "      <th>1</th>\n",
              "      <td>0</td>\n",
              "      <td>Training</td>\n",
              "      <td>151 150 147 155 148 133 111 140 170 174 182 15...</td>\n",
              "      <td>Angry</td>\n",
              "    </tr>\n",
              "    <tr>\n",
              "      <th>2</th>\n",
              "      <td>2</td>\n",
              "      <td>Training</td>\n",
              "      <td>231 212 156 164 174 138 161 173 182 200 106 38...</td>\n",
              "      <td>Fear</td>\n",
              "    </tr>\n",
              "    <tr>\n",
              "      <th>3</th>\n",
              "      <td>4</td>\n",
              "      <td>Training</td>\n",
              "      <td>24 32 36 30 32 23 19 20 30 41 21 22 32 34 21 1...</td>\n",
              "      <td>Sad</td>\n",
              "    </tr>\n",
              "    <tr>\n",
              "      <th>4</th>\n",
              "      <td>6</td>\n",
              "      <td>Training</td>\n",
              "      <td>4 0 0 0 0 0 0 0 0 0 0 0 3 15 23 28 48 50 58 84...</td>\n",
              "      <td>Neutral</td>\n",
              "    </tr>\n",
              "    <tr>\n",
              "      <th>...</th>\n",
              "      <td>...</td>\n",
              "      <td>...</td>\n",
              "      <td>...</td>\n",
              "      <td>...</td>\n",
              "    </tr>\n",
              "    <tr>\n",
              "      <th>35882</th>\n",
              "      <td>6</td>\n",
              "      <td>PrivateTest</td>\n",
              "      <td>50 36 17 22 23 29 33 39 34 37 37 37 39 43 48 5...</td>\n",
              "      <td>Neutral</td>\n",
              "    </tr>\n",
              "    <tr>\n",
              "      <th>35883</th>\n",
              "      <td>3</td>\n",
              "      <td>PrivateTest</td>\n",
              "      <td>178 174 172 173 181 188 191 194 196 199 200 20...</td>\n",
              "      <td>Happy</td>\n",
              "    </tr>\n",
              "    <tr>\n",
              "      <th>35884</th>\n",
              "      <td>0</td>\n",
              "      <td>PrivateTest</td>\n",
              "      <td>17 17 16 23 28 22 19 17 25 26 20 24 31 19 27 9...</td>\n",
              "      <td>Angry</td>\n",
              "    </tr>\n",
              "    <tr>\n",
              "      <th>35885</th>\n",
              "      <td>3</td>\n",
              "      <td>PrivateTest</td>\n",
              "      <td>30 28 28 29 31 30 42 68 79 81 77 67 67 71 63 6...</td>\n",
              "      <td>Happy</td>\n",
              "    </tr>\n",
              "    <tr>\n",
              "      <th>35886</th>\n",
              "      <td>2</td>\n",
              "      <td>PrivateTest</td>\n",
              "      <td>19 13 14 12 13 16 21 33 50 57 71 84 97 108 122...</td>\n",
              "      <td>Fear</td>\n",
              "    </tr>\n",
              "  </tbody>\n",
              "</table>\n",
              "<p>35887 rows × 4 columns</p>\n",
              "</div>"
            ],
            "text/plain": [
              "       emotion  ... Emotion2\n",
              "0            0  ...    Angry\n",
              "1            0  ...    Angry\n",
              "2            2  ...     Fear\n",
              "3            4  ...      Sad\n",
              "4            6  ...  Neutral\n",
              "...        ...  ...      ...\n",
              "35882        6  ...  Neutral\n",
              "35883        3  ...    Happy\n",
              "35884        0  ...    Angry\n",
              "35885        3  ...    Happy\n",
              "35886        2  ...     Fear\n",
              "\n",
              "[35887 rows x 4 columns]"
            ]
          },
          "metadata": {
            "tags": []
          },
          "execution_count": 39
        }
      ]
    },
    {
      "cell_type": "code",
      "metadata": {
        "id": "qmlQDkEHn6Mg",
        "colab": {
          "base_uri": "https://localhost:8080/"
        },
        "outputId": "de2d3fb9-ef94-45e2-a1af-49b2864425ed"
      },
      "source": [
        "y_pred=model.predict(x_test_f)\r\n",
        "y_pred_class=model.predict_classes(x_test_f)"
      ],
      "execution_count": 40,
      "outputs": [
        {
          "output_type": "stream",
          "text": [
            "/usr/local/lib/python3.6/dist-packages/tensorflow/python/keras/engine/sequential.py:450: UserWarning: `model.predict_classes()` is deprecated and will be removed after 2021-01-01. Please use instead:* `np.argmax(model.predict(x), axis=-1)`,   if your model does multi-class classification   (e.g. if it uses a `softmax` last-layer activation).* `(model.predict(x) > 0.5).astype(\"int32\")`,   if your model does binary classification   (e.g. if it uses a `sigmoid` last-layer activation).\n",
            "  warnings.warn('`model.predict_classes()` is deprecated and '\n"
          ],
          "name": "stderr"
        }
      ]
    },
    {
      "cell_type": "code",
      "metadata": {
        "id": "FjuoTH0fcBYC",
        "colab": {
          "base_uri": "https://localhost:8080/"
        },
        "outputId": "fbc2ede8-4a0a-48e2-d048-e982be957b42"
      },
      "source": [
        "from sklearn.metrics import classification_report as cr,confusion_matrix as cm\n",
        "import seaborn as sn\n",
        "import numpy as np\n",
        "\n",
        "target_names = ['Angry','Disgust', 'Fear', 'Happy','Sad', 'Surprise', 'Neutral']\n",
        "\n",
        "print(cr(np.argmax(y_test,axis=1),y_pred_class,target_names=target_names))\n",
        "\n",
        "confusionmatrix = cm(np.argmax(y_test,axis=1),y_pred_class)\n",
        "print(confusionmatrix)\n"
      ],
      "execution_count": 41,
      "outputs": [
        {
          "output_type": "stream",
          "text": [
            "              precision    recall  f1-score   support\n",
            "\n",
            "       Angry       0.58      0.40      0.47       958\n",
            "     Disgust       0.80      0.51      0.63       111\n",
            "        Fear       0.58      0.25      0.35      1024\n",
            "       Happy       0.73      0.85      0.79      1774\n",
            "         Sad       0.43      0.55      0.48      1247\n",
            "    Surprise       0.76      0.77      0.77       831\n",
            "     Neutral       0.49      0.61      0.55      1233\n",
            "\n",
            "    accuracy                           0.60      7178\n",
            "   macro avg       0.63      0.56      0.58      7178\n",
            "weighted avg       0.60      0.60      0.58      7178\n",
            "\n",
            "[[ 380    6   41  115  238   27  151]\n",
            " [  14   57    2    7   22    2    7]\n",
            " [  93    4  259   92  282  110  184]\n",
            " [  34    0   21 1505   92   27   95]\n",
            " [  65    0   60  130  688   15  289]\n",
            " [  21    1   37   59   29  639   45]\n",
            " [  44    3   29  143  243   16  755]]\n"
          ],
          "name": "stdout"
        }
      ]
    },
    {
      "cell_type": "code",
      "metadata": {
        "id": "gK4FCix6cBYD",
        "colab": {
          "base_uri": "https://localhost:8080/",
          "height": 427
        },
        "outputId": "ad2c4909-f13a-4293-d540-056b17c95c46"
      },
      "source": [
        "df_cm = pd.DataFrame(confusionmatrix, index = target_names,\r\n",
        "                  columns = target_names)\r\n",
        "\r\n",
        "plt.figure(figsize = (10,7))\r\n",
        "ax=sn.heatmap(df_cm, annot=True,fmt=\"d\",vmin=0, vmax=724,center=0)\r\n",
        "\r\n"
      ],
      "execution_count": 42,
      "outputs": [
        {
          "output_type": "display_data",
          "data": {
            "image/png": "[encoded data removed]",
            "text/plain": [
              "<Figure size 720x504 with 2 Axes>"
            ]
          },
          "metadata": {
            "tags": [],
            "needs_background": "light"
          }
        }
      ]
    },
    {
      "cell_type": "code",
      "metadata": {
        "id": "WA78nm40pNV9",
        "colab": {
          "base_uri": "https://localhost:8080/",
          "height": 610
        },
        "outputId": "a0ba7ae8-0069-4ad9-aaa9-d30c931c229e"
      },
      "source": [
        "confusionmatrix = cm(np.argmax(y_test,axis=1),y_pred_class)\r\n",
        "cmn = confusionmatrix.astype('float') / confusionmatrix.sum(axis=1)[:, np.newaxis]\r\n",
        "\r\n",
        "fig, ax = plt.subplots(figsize=(10,10))\r\n",
        "sns.heatmap(cmn, annot=True, fmt='.2f', xticklabels=target_names, yticklabels=target_names, cmap ='Reds', vmax=1,vmin=0)\r\n",
        "plt.ylabel('Actual')\r\n",
        "plt.xlabel('Predicted')\r\n",
        "plt.show()"
      ],
      "execution_count": 43,
      "outputs": [
        {
          "output_type": "display_data",
          "data": {
            "image/png": "[encoded data removed]",
            "text/plain": [
              "<Figure size 720x720 with 2 Axes>"
            ]
          },
          "metadata": {
            "tags": [],
            "needs_background": "light"
          }
        }
      ]
    },
    {
      "cell_type": "code",
      "metadata": {
        "id": "G6wZw96n-LJa",
        "colab": {
          "base_uri": "https://localhost:8080/"
        },
        "outputId": "668dc61f-141b-407d-a061-bc53f98955a2"
      },
      "source": [
        "data.Emotion2.value_counts()"
      ],
      "execution_count": 44,
      "outputs": [
        {
          "output_type": "execute_result",
          "data": {
            "text/plain": [
              "Happy       8989\n",
              "Neutral     6198\n",
              "Sad         6077\n",
              "Fear        5121\n",
              "Angry       4953\n",
              "Surprise    4002\n",
              "Disgust      547\n",
              "Name: Emotion2, dtype: int64"
            ]
          },
          "metadata": {
            "tags": []
          },
          "execution_count": 44
        }
      ]
    },
    {
      "cell_type": "code",
      "metadata": {
        "id": "5fRVQMjUixgU",
        "colab": {
          "base_uri": "https://localhost:8080/",
          "height": 197
        },
        "outputId": "057c895b-2e06-4b12-b153-201955832f66"
      },
      "source": [
        "data.head()"
      ],
      "execution_count": 45,
      "outputs": [
        {
          "output_type": "execute_result",
          "data": {
            "text/html": [
              "<div>\n",
              "<style scoped>\n",
              "    .dataframe tbody tr th:only-of-type {\n",
              "        vertical-align: middle;\n",
              "    }\n",
              "\n",
              "    .dataframe tbody tr th {\n",
              "        vertical-align: top;\n",
              "    }\n",
              "\n",
              "    .dataframe thead th {\n",
              "        text-align: right;\n",
              "    }\n",
              "</style>\n",
              "<table border=\"1\" class=\"dataframe\">\n",
              "  <thead>\n",
              "    <tr style=\"text-align: right;\">\n",
              "      <th></th>\n",
              "      <th>emotion</th>\n",
              "      <th>Usage</th>\n",
              "      <th>pixels</th>\n",
              "      <th>Emotion2</th>\n",
              "    </tr>\n",
              "  </thead>\n",
              "  <tbody>\n",
              "    <tr>\n",
              "      <th>0</th>\n",
              "      <td>0</td>\n",
              "      <td>Training</td>\n",
              "      <td>70 80 82 72 58 58 60 63 54 58 60 48 89 115 121...</td>\n",
              "      <td>Angry</td>\n",
              "    </tr>\n",
              "    <tr>\n",
              "      <th>1</th>\n",
              "      <td>0</td>\n",
              "      <td>Training</td>\n",
              "      <td>151 150 147 155 148 133 111 140 170 174 182 15...</td>\n",
              "      <td>Angry</td>\n",
              "    </tr>\n",
              "    <tr>\n",
              "      <th>2</th>\n",
              "      <td>2</td>\n",
              "      <td>Training</td>\n",
              "      <td>231 212 156 164 174 138 161 173 182 200 106 38...</td>\n",
              "      <td>Fear</td>\n",
              "    </tr>\n",
              "    <tr>\n",
              "      <th>3</th>\n",
              "      <td>4</td>\n",
              "      <td>Training</td>\n",
              "      <td>24 32 36 30 32 23 19 20 30 41 21 22 32 34 21 1...</td>\n",
              "      <td>Sad</td>\n",
              "    </tr>\n",
              "    <tr>\n",
              "      <th>4</th>\n",
              "      <td>6</td>\n",
              "      <td>Training</td>\n",
              "      <td>4 0 0 0 0 0 0 0 0 0 0 0 3 15 23 28 48 50 58 84...</td>\n",
              "      <td>Neutral</td>\n",
              "    </tr>\n",
              "  </tbody>\n",
              "</table>\n",
              "</div>"
            ],
            "text/plain": [
              "   emotion  ... Emotion2\n",
              "0        0  ...    Angry\n",
              "1        0  ...    Angry\n",
              "2        2  ...     Fear\n",
              "3        4  ...      Sad\n",
              "4        6  ...  Neutral\n",
              "\n",
              "[5 rows x 4 columns]"
            ]
          },
          "metadata": {
            "tags": []
          },
          "execution_count": 45
        }
      ]
    },
    {
      "cell_type": "markdown",
      "metadata": {
        "id": "bdpru0-WW1oe"
      },
      "source": [
        "from keras.preprocessing import image\r\n",
        "\r\n",
        "test_image = image.load_img('/content/drive/MyDrive/FaceRecognition/TrumpBW.jpg',target_size =(48,48,1))\r\n",
        "test_image =image.img_to_array(test_image)\r\n",
        "result = model.predict(test_image)\r\n"
      ]
    },
    {
      "cell_type": "code",
      "metadata": {
        "id": "-GdF6t_dedDy",
        "colab": {
          "base_uri": "https://localhost:8080/",
          "height": 374
        },
        "outputId": "0c0ff33e-82fc-4812-9dd3-e3377aaabbcb"
      },
      "source": [
        "import cv2\r\n",
        "from google.colab.patches import cv2_imshow\r\n",
        "\r\n",
        "# Input image\r\n",
        "input = cv2.imread('/content/drive/MyDrive/FaceRecognition/TrumpBW.jpg',0)\r\n",
        "\r\n",
        "# Get input size\r\n",
        "height, width = input.shape[:2]\r\n",
        "\r\n",
        "# Desired \"pixelated\" size\r\n",
        "w, h = (48, 48)\r\n",
        "\r\n",
        "# Resize input to \"pixelated\" size\r\n",
        "temp = cv2.resize(input, (w, h), interpolation=cv2.INTER_LINEAR)\r\n",
        "\r\n",
        "# Initialize output image\r\n",
        "output = cv2.resize(temp, (w, h), interpolation=cv2.INTER_NEAREST)\r\n",
        "\r\n",
        "cv2_imshow(input)\r\n",
        "print('')\r\n",
        "cv2_imshow(output)\r\n",
        "print ('')\r\n",
        "output.shape\r\n",
        "\r\n",
        "img = output.reshape(48, 48, 1)\r\n",
        "img = np.expand_dims(img, axis=0)\r\n",
        "img = img / 255.0\r\n",
        "img.shape\r\n"
      ],
      "execution_count": 46,
      "outputs": [
        {
          "output_type": "display_data",
          "data": {
            "image/png": "[encoded data removed]",
            "text/plain": [
              "<PIL.Image.Image image mode=L size=256x256 at 0x7FD9E8F4D198>"
            ]
          },
          "metadata": {
            "tags": []
          }
        },
        {
          "output_type": "stream",
          "text": [
            "\n"
          ],
          "name": "stdout"
        },
        {
          "output_type": "display_data",
          "data": {
            "image/png": "[encoded data removed]",
            "text/plain": [
              "<PIL.Image.Image image mode=L size=48x48 at 0x7FD9E8F72358>"
            ]
          },
          "metadata": {
            "tags": []
          }
        },
        {
          "output_type": "stream",
          "text": [
            "\n"
          ],
          "name": "stdout"
        },
        {
          "output_type": "execute_result",
          "data": {
            "text/plain": [
              "(1, 48, 48, 1)"
            ]
          },
          "metadata": {
            "tags": []
          },
          "execution_count": 46
        }
      ]
    },
    {
      "cell_type": "code",
      "metadata": {
        "id": "Vlv6SoPAn2Dk",
        "colab": {
          "base_uri": "https://localhost:8080/",
          "height": 35
        },
        "outputId": "4eb0daf6-d61f-421a-9b1a-a1892cbf4899"
      },
      "source": [
        "y_pred = np.argmax(model.predict(img), axis=-1)\r\n",
        "x2 = emotion_map[y_pred[0]]\r\n",
        "x2"
      ],
      "execution_count": 47,
      "outputs": [
        {
          "output_type": "execute_result",
          "data": {
            "application/vnd.google.colaboratory.intrinsic+json": {
              "type": "string"
            },
            "text/plain": [
              "'Angry'"
            ]
          },
          "metadata": {
            "tags": []
          },
          "execution_count": 47
        }
      ]
    },
    {
      "cell_type": "code",
      "metadata": {
        "id": "Q4fUbJcH5sAu",
        "colab": {
          "base_uri": "https://localhost:8080/"
        },
        "outputId": "042aa88c-f084-4cdf-caba-07e4952d09a7"
      },
      "source": [
        "y_proba = model.predict(img)\r\n",
        "xa = y_proba.round(3)\r\n",
        "xa = xa.reshape(7)\r\n",
        "xa1 = xa.tolist()\r\n",
        "xa1"
      ],
      "execution_count": 48,
      "outputs": [
        {
          "output_type": "execute_result",
          "data": {
            "text/plain": [
              "[0.4440000057220459,\n",
              " 0.0010000000474974513,\n",
              " 0.10999999940395355,\n",
              " 0.19099999964237213,\n",
              " 0.19900000095367432,\n",
              " 0.003000000026077032,\n",
              " 0.052000001072883606]"
            ]
          },
          "metadata": {
            "tags": []
          },
          "execution_count": 48
        }
      ]
    },
    {
      "cell_type": "code",
      "metadata": {
        "id": "AhM50em2PBRe",
        "colab": {
          "base_uri": "https://localhost:8080/"
        },
        "outputId": "ac96c65e-902d-4588-f6e6-edfeeb321a4b"
      },
      "source": [
        "index2 = np.arange(7)\r\n",
        "index2\r\n",
        "print(index2.shape)"
      ],
      "execution_count": 49,
      "outputs": [
        {
          "output_type": "stream",
          "text": [
            "(7,)\n"
          ],
          "name": "stdout"
        }
      ]
    },
    {
      "cell_type": "code",
      "metadata": {
        "id": "-BJ_ykVzK2oa",
        "colab": {
          "base_uri": "https://localhost:8080/"
        },
        "outputId": "3c0248f3-8c14-4231-9e2b-3c1c018051f8"
      },
      "source": [
        "index = np.arange(len(emotion_counts))\r\n",
        "index.shape"
      ],
      "execution_count": 50,
      "outputs": [
        {
          "output_type": "execute_result",
          "data": {
            "text/plain": [
              "(7,)"
            ]
          },
          "metadata": {
            "tags": []
          },
          "execution_count": 50
        }
      ]
    },
    {
      "cell_type": "code",
      "metadata": {
        "id": "8Zn5j1mncV-R"
      },
      "source": [
        "target_names = ['Angry','Disgust', 'Fear', 'Happy','Sad', 'Surprise', 'Neutral']"
      ],
      "execution_count": 51,
      "outputs": []
    },
    {
      "cell_type": "code",
      "metadata": {
        "id": "8r7qDQxSS8Md",
        "colab": {
          "base_uri": "https://localhost:8080/",
          "height": 621
        },
        "outputId": "5fda330c-6c5a-4e75-8cef-0c90fa6ea580"
      },
      "source": [
        "f = plt.subplots(figsize=(16,10))\r\n",
        "\r\n",
        "plt.bar(target_names,xa1,color=['magenta', 'red', 'green', 'blue', 'cyan','yellow', 'purple'])\r\n",
        "plt.title('Emotion Recognition detection bar plot')\r\n",
        "plt.ylabel('Classification of the predicted emotion ')\r\n",
        "plt.xlabel('Emotion')\r\n",
        "plt.show()"
      ],
      "execution_count": 52,
      "outputs": [
        {
          "output_type": "display_data",
          "data": {
            "image/png": "[encoded data removed]",
            "text/plain": [
              "<Figure size 1152x720 with 1 Axes>"
            ]
          },
          "metadata": {
            "tags": [],
            "needs_background": "light"
          }
        }
      ]
    },
    {
      "cell_type": "code",
      "metadata": {
        "id": "mTMNXDmChk0s"
      },
      "source": [
        "from keras.models import load_model\r\n",
        "from keras.preprocessing.image import img_to_array\r\n",
        "from keras.preprocessing import image\r\n",
        "import cv2\r\n",
        "import numpy as np"
      ],
      "execution_count": 53,
      "outputs": []
    },
    {
      "cell_type": "code",
      "metadata": {
        "id": "Mj5NxCz2qDeS"
      },
      "source": [
        "import cv2\r\n",
        "from google.colab.patches import cv2_imshow\r\n",
        "\r\n",
        "# Input image\r\n",
        "input = cv2.imread('/content/drive/MyDrive/FaceRecognition/TrumpBW.jpg',0)\r\n",
        "\r\n",
        "# Get input size\r\n",
        "height, width = input.shape[:2]\r\n",
        "\r\n",
        "# Desired \"pixelated\" size\r\n",
        "w, h = (48, 48)\r\n",
        "\r\n",
        "# Resize input to \"pixelated\" size\r\n",
        "temp = cv2.resize(input, (w, h), interpolation=cv2.INTER_LINEAR)\r\n",
        "\r\n",
        "# Initialize output image\r\n",
        "output = cv2.resize(temp, (w, h), interpolation=cv2.INTER_NEAREST)\r\n",
        "\r\n",
        "cv2_imshow(input)\r\n",
        "print('')\r\n",
        "cv2_imshow(output)\r\n",
        "print ('')\r\n",
        "output.shape\r\n",
        "\r\n",
        "img = output.reshape(48, 48, 1)\r\n",
        "img = np.expand_dims(img, axis=0)\r\n",
        "img = img / 255.0\r\n",
        "img.shape"
      ],
      "execution_count": null,
      "outputs": []
    },
    {
      "cell_type": "code",
      "metadata": {
        "id": "3e6si3yFF3sq"
      },
      "source": [
        "model_json = model.to_json()\r\n",
        "with open(\"/content/drive/MyDrive/FaceRecognition/model.json\",\"w\") as json_file:\r\n",
        "  json_file.write(model_json)"
      ],
      "execution_count": 54,
      "outputs": []
    },
    {
      "cell_type": "code",
      "metadata": {
        "id": "apOuWlB-kIRt"
      },
      "source": [
        "\r\n",
        "\r\n",
        "\r\n",
        "#face_classifier = cv2.CascadeClassifier(cv2.data.haarcascades + '/content/drive/MyDrive/FaceRecognition/haarcascade_frontalface_default.xml')\r\n",
        "\r\n",
        "#classifier = load_model('/content/drive/MyDrive/FaceRecognition/EmotionDetectionModel.h5')"
      ],
      "execution_count": 55,
      "outputs": []
    },
    {
      "cell_type": "code",
      "metadata": {
        "id": "Q8Xnzy-VkMLm"
      },
      "source": [
        "\r\n",
        "#class_labels=['Happy','Neutral','Sad','Fear', 'Angry', 'Surprise', 'Disgust']\r\n",
        "#cap=cv2.VideoCapture(0)\r\n"
      ],
      "execution_count": 56,
      "outputs": []
    },
    {
      "cell_type": "code",
      "metadata": {
        "id": "6YmkrP7girFK",
        "colab": {
          "base_uri": "https://localhost:8080/"
        },
        "outputId": "2e97254a-ab5b-47ac-df07-edd5c495faed"
      },
      "source": [
        "x_train_f.shape\r\n"
      ],
      "execution_count": 57,
      "outputs": [
        {
          "output_type": "execute_result",
          "data": {
            "text/plain": [
              "(28709, 48, 48, 1)"
            ]
          },
          "metadata": {
            "tags": []
          },
          "execution_count": 57
        }
      ]
    },
    {
      "cell_type": "code",
      "metadata": {
        "id": "g1886AGiLvYx",
        "colab": {
          "base_uri": "https://localhost:8080/",
          "height": 35
        },
        "outputId": "cd340665-d88a-4e02-fa5f-e12e9ebb8ea6"
      },
      "source": [
        "y_pred = np.argmax(model.predict(img), axis=-1)\r\n",
        "x2 = emotion_map[y_pred[0]]\r\n",
        "x2"
      ],
      "execution_count": 58,
      "outputs": [
        {
          "output_type": "execute_result",
          "data": {
            "application/vnd.google.colaboratory.intrinsic+json": {
              "type": "string"
            },
            "text/plain": [
              "'Angry'"
            ]
          },
          "metadata": {
            "tags": []
          },
          "execution_count": 58
        }
      ]
    },
    {
      "cell_type": "code",
      "metadata": {
        "id": "wd5looBTr2k7"
      },
      "source": [
        "num_classes = 7\r\n",
        "epochs = 40\r\n",
        "batch_size = 64\r\n",
        "num_features = 32\r\n",
        "width, height = 48,48"
      ],
      "execution_count": 59,
      "outputs": []
    },
    {
      "cell_type": "markdown",
      "metadata": {
        "id": "ZGGjAg-oNHlV"
      },
      "source": [
        "from keras.preprocessing import image\r\n",
        "from keras.preprocessing.image import load_img\r\n",
        "from keras.preprocessing.image import img_to_array\r\n",
        "from keras.preprocessing.image import ImageDataGenerator\r\n",
        "from keras.layers.normalization import BatchNormalization\r\n",
        "from tensorflow.keras import datasets, layers, models\r\n",
        "from tensorflow.keras.layers import Dropout\r\n",
        "import matplotlib.pyplot as plt\r\n",
        "from sklearn.model_selection import train_test_split \r\n",
        "\r\n",
        "model = Sequential()\r\n",
        "model.add(layers.Conv2D(64, (1, 1), padding='same', activation='relu', input_shape=(48, 48, 1)))\r\n",
        "model.add(BatchNormalization())\r\n",
        "model.add(Dropout(0.25))\r\n",
        "\r\n",
        "model.add(layers.Conv2D(128, (3, 3),padding='same', activation='relu'))\r\n",
        "model.add(BatchNormalization())\r\n",
        "model.add(Dropout(0.25))\r\n",
        "\r\n",
        "model.add(layers.Conv2D(256, (5, 5),padding='same', activation='relu'))\r\n",
        "model.add(BatchNormalization())\r\n",
        "model.add(layers.MaxPooling2D((2, 2),padding=\"same\"))\r\n",
        "model.add(Dropout(0.25))\r\n",
        "\r\n",
        "\r\n",
        "model.add(layers.Flatten())\r\n",
        "\r\n",
        "model.add(layers.Dense(128))\r\n",
        "model.add(BatchNormalization())\r\n",
        "model.add(Activation('relu'))\r\n",
        "model.add(Dropout(0.25))\r\n",
        "\r\n",
        "model.add(layers.Dense(256))\r\n",
        "model.add(BatchNormalization())\r\n",
        "model.add(Activation('relu'))\r\n",
        "model.add(Dropout(0.25))\r\n",
        "\r\n",
        "model.add(layers.Dense(7, activation='softmax'))\r\n",
        "model.summary()\r\n",
        "\r\n",
        "\r\n",
        "\r\n",
        "\r\n",
        "# model.fit(X_train, Y_train, batch_size=64, epochs=40, steps_per_epoch=(len(X_train)/128))\r\n",
        "\r\n",
        "model.compile(     # Fonction d'erreur\r\n",
        "            optimizer='adam',\r\n",
        "             loss = tf.keras.losses.SparseCategoricalCrossentropy(from_logits=True),\r\n",
        "              metrics=[\"accuracy\"])\r\n",
        "\r\n",
        "\r\n",
        "\r\n",
        "\r\n",
        "\r\n",
        "\r\n",
        "model.fit(x_train_f,y_train,epochs=epochs,batch_size=batch_size,callbacks=[es,reduce_lr,checkpoint])"
      ]
    },
    {
      "cell_type": "code",
      "metadata": {
        "id": "m1EL4V5BjLxT",
        "colab": {
          "base_uri": "https://localhost:8080/"
        },
        "outputId": "b13e5041-c74f-4d26-899d-04d55cfdda7f"
      },
      "source": [
        "score = model.evaluate(x_test_f, y_test, verbose=1)\r\n",
        "print(\"Test loss:\", score[0])\r\n",
        "print(\"Test accuracy:\", score[1])"
      ],
      "execution_count": 60,
      "outputs": [
        {
          "output_type": "stream",
          "text": [
            "225/225 [==============================] - 2s 8ms/step - loss: 1.0834 - accuracy: 0.5967\n",
            "Test loss: 1.0834145545959473\n",
            "Test accuracy: 0.5966843366622925\n"
          ],
          "name": "stdout"
        }
      ]
    },
    {
      "cell_type": "code",
      "metadata": {
        "id": "uACEuQYMq86G"
      },
      "source": [
        ""
      ],
      "execution_count": 60,
      "outputs": []
    }
  ]
}